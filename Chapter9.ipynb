{
  "nbformat": 4,
  "nbformat_minor": 0,
  "metadata": {
    "colab": {
      "name": "\bChapter9.ipynb",
      "provenance": [],
      "collapsed_sections": [
        "Bhgx0Q0FjpzU"
      ],
      "authorship_tag": "ABX9TyPFxpxcASJQ/VH7nR6EjP3z",
      "include_colab_link": true
    },
    "kernelspec": {
      "name": "python3",
      "display_name": "Python 3"
    },
    "language_info": {
      "name": "python"
    },
    "accelerator": "GPU"
  },
  "cells": [
    {
      "cell_type": "markdown",
      "metadata": {
        "id": "view-in-github",
        "colab_type": "text"
      },
      "source": [
        "<a href=\"https://colab.research.google.com/github/Tae1Yuk/ML-Study/blob/main/%08Chapter9.ipynb\" target=\"_parent\"><img src=\"https://colab.research.google.com/assets/colab-badge.svg\" alt=\"Open In Colab\"/></a>"
      ]
    },
    {
      "cell_type": "markdown",
      "source": [
        "## **Chapter 9-1**"
      ],
      "metadata": {
        "id": "wwRPB6KqciaB"
      }
    },
    {
      "cell_type": "markdown",
      "source": [
        "## **Chapter 9-2**"
      ],
      "metadata": {
        "id": "Bhgx0Q0FjpzU"
      }
    },
    {
      "cell_type": "code",
      "source": [
        " from tensorflow.keras.datasets import imdb\n",
        " (train_input, train_target), (test_input, test_target) = imdb.load_data(num_words = 500)"
      ],
      "metadata": {
        "colab": {
          "base_uri": "https://localhost:8080/"
        },
        "id": "n8VCpzZ8jsR4",
        "outputId": "82b5369e-7365-477c-86bd-82001f31cb72"
      },
      "execution_count": 1,
      "outputs": [
        {
          "output_type": "stream",
          "name": "stdout",
          "text": [
            "Downloading data from https://storage.googleapis.com/tensorflow/tf-keras-datasets/imdb.npz\n",
            "17465344/17464789 [==============================] - 0s 0us/step\n",
            "17473536/17464789 [==============================] - 0s 0us/step\n"
          ]
        }
      ]
    },
    {
      "cell_type": "code",
      "source": [
        "print(train_input.shape, test_input.shape)"
      ],
      "metadata": {
        "colab": {
          "base_uri": "https://localhost:8080/"
        },
        "id": "qrxSbPT0u3pK",
        "outputId": "4917c019-8f0b-4058-9787-fa05cd619a48"
      },
      "execution_count": 2,
      "outputs": [
        {
          "output_type": "stream",
          "name": "stdout",
          "text": [
            "(25000,) (25000,)\n"
          ]
        }
      ]
    },
    {
      "cell_type": "code",
      "source": [
        "print(len(train_input[0]))\n",
        "print(len(train_input[1]))"
      ],
      "metadata": {
        "colab": {
          "base_uri": "https://localhost:8080/"
        },
        "id": "dWx20SSXvDT0",
        "outputId": "812449bf-e0db-4bdb-d33d-104a20b3e436"
      },
      "execution_count": 5,
      "outputs": [
        {
          "output_type": "stream",
          "name": "stdout",
          "text": [
            "218\n",
            "189\n"
          ]
        }
      ]
    },
    {
      "cell_type": "code",
      "source": [
        "print(train_input[0])"
      ],
      "metadata": {
        "colab": {
          "base_uri": "https://localhost:8080/"
        },
        "id": "4mHwJE-ivM2L",
        "outputId": "fe495025-285b-4eb9-c725-a270d20a3308"
      },
      "execution_count": 6,
      "outputs": [
        {
          "output_type": "stream",
          "name": "stdout",
          "text": [
            "[1, 14, 22, 16, 43, 2, 2, 2, 2, 65, 458, 2, 66, 2, 4, 173, 36, 256, 5, 25, 100, 43, 2, 112, 50, 2, 2, 9, 35, 480, 284, 5, 150, 4, 172, 112, 167, 2, 336, 385, 39, 4, 172, 2, 2, 17, 2, 38, 13, 447, 4, 192, 50, 16, 6, 147, 2, 19, 14, 22, 4, 2, 2, 469, 4, 22, 71, 87, 12, 16, 43, 2, 38, 76, 15, 13, 2, 4, 22, 17, 2, 17, 12, 16, 2, 18, 2, 5, 62, 386, 12, 8, 316, 8, 106, 5, 4, 2, 2, 16, 480, 66, 2, 33, 4, 130, 12, 16, 38, 2, 5, 25, 124, 51, 36, 135, 48, 25, 2, 33, 6, 22, 12, 215, 28, 77, 52, 5, 14, 407, 16, 82, 2, 8, 4, 107, 117, 2, 15, 256, 4, 2, 7, 2, 5, 2, 36, 71, 43, 2, 476, 26, 400, 317, 46, 7, 4, 2, 2, 13, 104, 88, 4, 381, 15, 297, 98, 32, 2, 56, 26, 141, 6, 194, 2, 18, 4, 226, 22, 21, 134, 476, 26, 480, 5, 144, 30, 2, 18, 51, 36, 28, 224, 92, 25, 104, 4, 226, 65, 16, 38, 2, 88, 12, 16, 283, 5, 16, 2, 113, 103, 32, 15, 16, 2, 19, 178, 32]\n"
          ]
        }
      ]
    },
    {
      "cell_type": "code",
      "source": [
        "print(train_target[:20])"
      ],
      "metadata": {
        "colab": {
          "base_uri": "https://localhost:8080/"
        },
        "id": "dMz2D01GvTBB",
        "outputId": "7a68433c-e6fa-47d7-ef1f-88d744076e72"
      },
      "execution_count": 7,
      "outputs": [
        {
          "output_type": "stream",
          "name": "stdout",
          "text": [
            "[1 0 0 1 0 0 1 0 1 0 1 0 0 0 0 0 1 1 0 1]\n"
          ]
        }
      ]
    },
    {
      "cell_type": "code",
      "source": [
        "from sklearn.model_selection import train_test_split\n",
        "train_input, val_input, train_target, val_target = train_test_split(train_input, train_target, test_size = 0.2, random_state = 42)"
      ],
      "metadata": {
        "id": "JZd6XpJqva4X"
      },
      "execution_count": 8,
      "outputs": []
    },
    {
      "cell_type": "code",
      "source": [
        "import numpy as np\n",
        "lengths = np.array([len(x) for x in train_input])"
      ],
      "metadata": {
        "id": "qU0W9HimvpKy"
      },
      "execution_count": 9,
      "outputs": []
    },
    {
      "cell_type": "code",
      "source": [
        "print(np.mean(lengths), np.median(lengths))"
      ],
      "metadata": {
        "colab": {
          "base_uri": "https://localhost:8080/"
        },
        "id": "Z3CVtpudvzQO",
        "outputId": "e982b7da-c203-4532-aa5d-806b9fa1eb6e"
      },
      "execution_count": 10,
      "outputs": [
        {
          "output_type": "stream",
          "name": "stdout",
          "text": [
            "239.00925 178.0\n"
          ]
        }
      ]
    },
    {
      "cell_type": "code",
      "source": [
        "import matplotlib.pyplot as plt\n",
        "plt.hist(lengths)\n",
        "plt.xlabel('length')\n",
        "plt.ylabel('frequency')\n",
        "plt.show()"
      ],
      "metadata": {
        "colab": {
          "base_uri": "https://localhost:8080/",
          "height": 279
        },
        "id": "SoA00xmkv4B7",
        "outputId": "b0dd0673-43c1-4620-8bba-ab56bf8ab1a4"
      },
      "execution_count": 11,
      "outputs": [
        {
          "output_type": "display_data",
          "data": {
            "text/plain": [
              "<Figure size 432x288 with 1 Axes>"
            ],
            "image/png": "[encoded data removed]"
          },
          "metadata": {
            "needs_background": "light"
          }
        }
      ]
    },
    {
      "cell_type": "code",
      "source": [
        "from tensorflow.keras.preprocessing.sequence import pad_sequences\n",
        "train_seq = pad_sequences(train_input, maxlen = 100)"
      ],
      "metadata": {
        "id": "dgEIwj4zwB7z"
      },
      "execution_count": 12,
      "outputs": []
    },
    {
      "cell_type": "code",
      "source": [
        "print(train_seq.shape)"
      ],
      "metadata": {
        "colab": {
          "base_uri": "https://localhost:8080/"
        },
        "id": "szt6ghH9wUZ0",
        "outputId": "163680d3-41b0-4712-a8dd-447a2c4c405f"
      },
      "execution_count": 13,
      "outputs": [
        {
          "output_type": "stream",
          "name": "stdout",
          "text": [
            "(20000, 100)\n"
          ]
        }
      ]
    },
    {
      "cell_type": "code",
      "source": [
        "print(train_seq[0])"
      ],
      "metadata": {
        "colab": {
          "base_uri": "https://localhost:8080/"
        },
        "id": "Tyi-Mb2WwXTk",
        "outputId": "e6544a54-72be-4b77-c127-dd88c097ad2c"
      },
      "execution_count": 14,
      "outputs": [
        {
          "output_type": "stream",
          "name": "stdout",
          "text": [
            "[ 10   4  20   9   2 364 352   5  45   6   2   2  33 269   8   2 142   2\n",
            "   5   2  17  73  17 204   5   2  19  55   2   2  92  66 104  14  20  93\n",
            "  76   2 151  33   4  58  12 188   2 151  12 215  69 224 142  73 237   6\n",
            "   2   7   2   2 188   2 103  14  31  10  10 451   7   2   5   2  80  91\n",
            "   2  30   2  34  14  20 151  50  26 131  49   2  84  46  50  37  80  79\n",
            "   6   2  46   7  14  20  10  10 470 158]\n"
          ]
        }
      ]
    },
    {
      "cell_type": "code",
      "source": [
        "print(train_input[0][-10:])"
      ],
      "metadata": {
        "colab": {
          "base_uri": "https://localhost:8080/"
        },
        "id": "Dqgh2t_rwfdm",
        "outputId": "b6ad17dc-c741-4124-b9fd-d50cf1e7f06d"
      },
      "execution_count": 15,
      "outputs": [
        {
          "output_type": "stream",
          "name": "stdout",
          "text": [
            "[6, 2, 46, 7, 14, 20, 10, 10, 470, 158]\n"
          ]
        }
      ]
    },
    {
      "cell_type": "code",
      "source": [
        "print(train_seq[5])"
      ],
      "metadata": {
        "colab": {
          "base_uri": "https://localhost:8080/"
        },
        "id": "9mmlB06owoUS",
        "outputId": "36deaaaf-dadc-4bf4-ef8b-92decd5c7213"
      },
      "execution_count": 16,
      "outputs": [
        {
          "output_type": "stream",
          "name": "stdout",
          "text": [
            "[  0   0   0   0   1   2 195  19  49   2   2 190   4   2 352   2 183  10\n",
            "  10  13  82  79   4   2  36  71 269   8   2  25  19  49   7   4   2   2\n",
            "   2   2   2  10  10  48  25  40   2  11   2   2  40   2   2   5   4   2\n",
            "   2  95  14 238  56 129   2  10  10  21   2  94 364 352   2   2  11 190\n",
            "  24 484   2   7  94 205 405  10  10  87   2  34  49   2   7   2   2   2\n",
            "   2   2 290   2  46  48  64  18   4   2]\n"
          ]
        }
      ]
    },
    {
      "cell_type": "code",
      "source": [
        "val_seq = pad_sequences(val_input, maxlen = 100)"
      ],
      "metadata": {
        "id": "bWtWhyRUw4k3"
      },
      "execution_count": 17,
      "outputs": []
    },
    {
      "cell_type": "code",
      "source": [
        "from tensorflow import keras\n",
        "model = keras.Sequential()\n",
        "model.add(keras.layers.SimpleRNN(8, input_shape = (100, 500)))\n",
        "model.add(keras.layers.Dense(1, activation = 'sigmoid'))"
      ],
      "metadata": {
        "id": "OScF4E4gw_mh"
      },
      "execution_count": 19,
      "outputs": []
    },
    {
      "cell_type": "code",
      "source": [
        "train_oh = keras.utils.to_categorical(train_seq)"
      ],
      "metadata": {
        "id": "RzVF5VTXxRZt"
      },
      "execution_count": 20,
      "outputs": []
    },
    {
      "cell_type": "code",
      "source": [
        "print(train_oh.shape)"
      ],
      "metadata": {
        "colab": {
          "base_uri": "https://localhost:8080/"
        },
        "id": "6F7NT9lTyCEW",
        "outputId": "d641ca00-e4b6-4d90-b05e-be4a29e7912c"
      },
      "execution_count": 21,
      "outputs": [
        {
          "output_type": "stream",
          "name": "stdout",
          "text": [
            "(20000, 100, 500)\n"
          ]
        }
      ]
    },
    {
      "cell_type": "code",
      "source": [
        "print(train_oh[0][0][:12])"
      ],
      "metadata": {
        "colab": {
          "base_uri": "https://localhost:8080/"
        },
        "id": "mIsXB1RyyD1e",
        "outputId": "17728f2a-87c6-4e96-d7db-066243019fb6"
      },
      "execution_count": 22,
      "outputs": [
        {
          "output_type": "stream",
          "name": "stdout",
          "text": [
            "[0. 0. 0. 0. 0. 0. 0. 0. 0. 0. 1. 0.]\n"
          ]
        }
      ]
    },
    {
      "cell_type": "code",
      "source": [
        "print(np.sum(train_oh[0][0]))"
      ],
      "metadata": {
        "colab": {
          "base_uri": "https://localhost:8080/"
        },
        "id": "W8AgTcsuyL5Z",
        "outputId": "96a6da7c-2737-4140-9066-e3fd2b0f0c82"
      },
      "execution_count": 23,
      "outputs": [
        {
          "output_type": "stream",
          "name": "stdout",
          "text": [
            "1.0\n"
          ]
        }
      ]
    },
    {
      "cell_type": "code",
      "source": [
        "val_oh = keras.utils.to_categorical(val_seq)"
      ],
      "metadata": {
        "id": "k9nzkyFIyRqj"
      },
      "execution_count": 24,
      "outputs": []
    },
    {
      "cell_type": "code",
      "source": [
        "model.summary()"
      ],
      "metadata": {
        "colab": {
          "base_uri": "https://localhost:8080/"
        },
        "id": "oTcmIgC1yWse",
        "outputId": "7a47d103-b5ca-46bd-f877-3a87cd52cb9f"
      },
      "execution_count": 25,
      "outputs": [
        {
          "output_type": "stream",
          "name": "stdout",
          "text": [
            "Model: \"sequential_1\"\n",
            "_________________________________________________________________\n",
            " Layer (type)                Output Shape              Param #   \n",
            "=================================================================\n",
            " simple_rnn (SimpleRNN)      (None, 8)                 4072      \n",
            "                                                                 \n",
            " dense (Dense)               (None, 1)                 9         \n",
            "                                                                 \n",
            "=================================================================\n",
            "Total params: 4,081\n",
            "Trainable params: 4,081\n",
            "Non-trainable params: 0\n",
            "_________________________________________________________________\n"
          ]
        }
      ]
    },
    {
      "cell_type": "code",
      "source": [
        "rmsprop = keras.optimizers.RMSprop(learning_rate = 1e-4)\n",
        "model.compile(optimizer = rmsprop, loss = 'binary_crossentropy', metrics = ['accuracy'])\n",
        "checkpoint_cb = keras.callbacks.ModelCheckpoint('best-simplernn-model.h5', save_best_only = True)\n",
        "early_stopping_cb = keras.callbacks.EarlyStopping(patience = 3, restore_best_weights = True)\n",
        "history = model.fit(train_oh, train_target, epochs = 100, batch_size = 64, validation_data = (val_oh, val_target), callbacks = [checkpoint_cb, early_stopping_cb])"
      ],
      "metadata": {
        "colab": {
          "base_uri": "https://localhost:8080/"
        },
        "id": "naVAypzzyXpO",
        "outputId": "98b1177a-468f-4456-e6f0-fbc55dba5e01"
      },
      "execution_count": 27,
      "outputs": [
        {
          "output_type": "stream",
          "name": "stdout",
          "text": [
            "Epoch 1/100\n",
            "313/313 [==============================] - 28s 81ms/step - loss: 0.6954 - accuracy: 0.5128 - val_loss: 0.6934 - val_accuracy: 0.5186\n",
            "Epoch 2/100\n",
            "313/313 [==============================] - 15s 47ms/step - loss: 0.6922 - accuracy: 0.5261 - val_loss: 0.6922 - val_accuracy: 0.5216\n",
            "Epoch 3/100\n",
            "313/313 [==============================] - 15s 47ms/step - loss: 0.6901 - accuracy: 0.5339 - val_loss: 0.6912 - val_accuracy: 0.5240\n",
            "Epoch 4/100\n",
            "313/313 [==============================] - 15s 47ms/step - loss: 0.6882 - accuracy: 0.5420 - val_loss: 0.6901 - val_accuracy: 0.5264\n",
            "Epoch 5/100\n",
            "313/313 [==============================] - 14s 45ms/step - loss: 0.6863 - accuracy: 0.5515 - val_loss: 0.6890 - val_accuracy: 0.5312\n",
            "Epoch 6/100\n",
            "313/313 [==============================] - 15s 46ms/step - loss: 0.6845 - accuracy: 0.5559 - val_loss: 0.6880 - val_accuracy: 0.5354\n",
            "Epoch 7/100\n",
            "313/313 [==============================] - 14s 46ms/step - loss: 0.6826 - accuracy: 0.5634 - val_loss: 0.6868 - val_accuracy: 0.5412\n",
            "Epoch 8/100\n",
            "313/313 [==============================] - 14s 45ms/step - loss: 0.6807 - accuracy: 0.5700 - val_loss: 0.6857 - val_accuracy: 0.5470\n",
            "Epoch 9/100\n",
            "313/313 [==============================] - 15s 47ms/step - loss: 0.6786 - accuracy: 0.5771 - val_loss: 0.6846 - val_accuracy: 0.5496\n",
            "Epoch 10/100\n",
            "313/313 [==============================] - 14s 46ms/step - loss: 0.6765 - accuracy: 0.5830 - val_loss: 0.6834 - val_accuracy: 0.5546\n",
            "Epoch 11/100\n",
            "313/313 [==============================] - 15s 48ms/step - loss: 0.6743 - accuracy: 0.5902 - val_loss: 0.6822 - val_accuracy: 0.5574\n",
            "Epoch 12/100\n",
            "313/313 [==============================] - 14s 45ms/step - loss: 0.6720 - accuracy: 0.5938 - val_loss: 0.6810 - val_accuracy: 0.5600\n",
            "Epoch 13/100\n",
            "313/313 [==============================] - 14s 46ms/step - loss: 0.6696 - accuracy: 0.5978 - val_loss: 0.6797 - val_accuracy: 0.5600\n",
            "Epoch 14/100\n",
            "313/313 [==============================] - 15s 48ms/step - loss: 0.6670 - accuracy: 0.6036 - val_loss: 0.6782 - val_accuracy: 0.5664\n",
            "Epoch 15/100\n",
            "313/313 [==============================] - 14s 46ms/step - loss: 0.6643 - accuracy: 0.6090 - val_loss: 0.6766 - val_accuracy: 0.5692\n",
            "Epoch 16/100\n",
            "313/313 [==============================] - 14s 46ms/step - loss: 0.6614 - accuracy: 0.6142 - val_loss: 0.6745 - val_accuracy: 0.5716\n",
            "Epoch 17/100\n",
            "313/313 [==============================] - 14s 46ms/step - loss: 0.6581 - accuracy: 0.6205 - val_loss: 0.6720 - val_accuracy: 0.5742\n",
            "Epoch 18/100\n",
            "313/313 [==============================] - 14s 45ms/step - loss: 0.6544 - accuracy: 0.6261 - val_loss: 0.6682 - val_accuracy: 0.5812\n",
            "Epoch 19/100\n",
            "313/313 [==============================] - 14s 46ms/step - loss: 0.6495 - accuracy: 0.6308 - val_loss: 0.6614 - val_accuracy: 0.5990\n",
            "Epoch 20/100\n",
            "313/313 [==============================] - 15s 47ms/step - loss: 0.6410 - accuracy: 0.6412 - val_loss: 0.6458 - val_accuracy: 0.6256\n",
            "Epoch 21/100\n",
            "313/313 [==============================] - 14s 46ms/step - loss: 0.6031 - accuracy: 0.6836 - val_loss: 0.5743 - val_accuracy: 0.7114\n",
            "Epoch 22/100\n",
            "313/313 [==============================] - 14s 45ms/step - loss: 0.5543 - accuracy: 0.7229 - val_loss: 0.5669 - val_accuracy: 0.7182\n",
            "Epoch 23/100\n",
            "313/313 [==============================] - 14s 45ms/step - loss: 0.5399 - accuracy: 0.7351 - val_loss: 0.5464 - val_accuracy: 0.7364\n",
            "Epoch 24/100\n",
            "313/313 [==============================] - 14s 46ms/step - loss: 0.5279 - accuracy: 0.7462 - val_loss: 0.5378 - val_accuracy: 0.7416\n",
            "Epoch 25/100\n",
            "313/313 [==============================] - 14s 45ms/step - loss: 0.5173 - accuracy: 0.7552 - val_loss: 0.5278 - val_accuracy: 0.7530\n",
            "Epoch 26/100\n",
            "313/313 [==============================] - 14s 45ms/step - loss: 0.5079 - accuracy: 0.7637 - val_loss: 0.5208 - val_accuracy: 0.7564\n",
            "Epoch 27/100\n",
            "313/313 [==============================] - 14s 45ms/step - loss: 0.4990 - accuracy: 0.7697 - val_loss: 0.5137 - val_accuracy: 0.7638\n",
            "Epoch 28/100\n",
            "313/313 [==============================] - 14s 45ms/step - loss: 0.4911 - accuracy: 0.7758 - val_loss: 0.5097 - val_accuracy: 0.7628\n",
            "Epoch 29/100\n",
            "313/313 [==============================] - 14s 46ms/step - loss: 0.4841 - accuracy: 0.7799 - val_loss: 0.5049 - val_accuracy: 0.7662\n",
            "Epoch 30/100\n",
            "313/313 [==============================] - 14s 45ms/step - loss: 0.4765 - accuracy: 0.7843 - val_loss: 0.5000 - val_accuracy: 0.7656\n",
            "Epoch 31/100\n",
            "313/313 [==============================] - 14s 45ms/step - loss: 0.4704 - accuracy: 0.7891 - val_loss: 0.4920 - val_accuracy: 0.7714\n",
            "Epoch 32/100\n",
            "313/313 [==============================] - 14s 46ms/step - loss: 0.4651 - accuracy: 0.7936 - val_loss: 0.4876 - val_accuracy: 0.7730\n",
            "Epoch 33/100\n",
            "313/313 [==============================] - 14s 46ms/step - loss: 0.4596 - accuracy: 0.7950 - val_loss: 0.4853 - val_accuracy: 0.7750\n",
            "Epoch 34/100\n",
            "313/313 [==============================] - 14s 45ms/step - loss: 0.4549 - accuracy: 0.7972 - val_loss: 0.4845 - val_accuracy: 0.7762\n",
            "Epoch 35/100\n",
            "313/313 [==============================] - 14s 46ms/step - loss: 0.4506 - accuracy: 0.8011 - val_loss: 0.4828 - val_accuracy: 0.7724\n",
            "Epoch 36/100\n",
            "313/313 [==============================] - 14s 45ms/step - loss: 0.4469 - accuracy: 0.8026 - val_loss: 0.4776 - val_accuracy: 0.7782\n",
            "Epoch 37/100\n",
            "313/313 [==============================] - 15s 49ms/step - loss: 0.4435 - accuracy: 0.8035 - val_loss: 0.4768 - val_accuracy: 0.7768\n",
            "Epoch 38/100\n",
            "313/313 [==============================] - 14s 45ms/step - loss: 0.4400 - accuracy: 0.8062 - val_loss: 0.4742 - val_accuracy: 0.7804\n",
            "Epoch 39/100\n",
            "313/313 [==============================] - 14s 45ms/step - loss: 0.4369 - accuracy: 0.8066 - val_loss: 0.4728 - val_accuracy: 0.7820\n",
            "Epoch 40/100\n",
            "313/313 [==============================] - 14s 45ms/step - loss: 0.4341 - accuracy: 0.8073 - val_loss: 0.4714 - val_accuracy: 0.7836\n",
            "Epoch 41/100\n",
            "313/313 [==============================] - 14s 46ms/step - loss: 0.4318 - accuracy: 0.8084 - val_loss: 0.4709 - val_accuracy: 0.7810\n",
            "Epoch 42/100\n",
            "313/313 [==============================] - 14s 46ms/step - loss: 0.4292 - accuracy: 0.8102 - val_loss: 0.4750 - val_accuracy: 0.7792\n",
            "Epoch 43/100\n",
            "313/313 [==============================] - 14s 45ms/step - loss: 0.4270 - accuracy: 0.8104 - val_loss: 0.4708 - val_accuracy: 0.7836\n",
            "Epoch 44/100\n",
            "313/313 [==============================] - 14s 46ms/step - loss: 0.4246 - accuracy: 0.8113 - val_loss: 0.4673 - val_accuracy: 0.7860\n",
            "Epoch 45/100\n",
            "313/313 [==============================] - 14s 46ms/step - loss: 0.4228 - accuracy: 0.8135 - val_loss: 0.4679 - val_accuracy: 0.7826\n",
            "Epoch 46/100\n",
            "313/313 [==============================] - 14s 45ms/step - loss: 0.4207 - accuracy: 0.8128 - val_loss: 0.4671 - val_accuracy: 0.7832\n",
            "Epoch 47/100\n",
            "313/313 [==============================] - 14s 45ms/step - loss: 0.4190 - accuracy: 0.8132 - val_loss: 0.4672 - val_accuracy: 0.7842\n",
            "Epoch 48/100\n",
            "313/313 [==============================] - 14s 45ms/step - loss: 0.4176 - accuracy: 0.8126 - val_loss: 0.4655 - val_accuracy: 0.7854\n",
            "Epoch 49/100\n",
            "313/313 [==============================] - 14s 46ms/step - loss: 0.4157 - accuracy: 0.8162 - val_loss: 0.4665 - val_accuracy: 0.7824\n",
            "Epoch 50/100\n",
            "313/313 [==============================] - 14s 46ms/step - loss: 0.4141 - accuracy: 0.8162 - val_loss: 0.4638 - val_accuracy: 0.7852\n",
            "Epoch 51/100\n",
            "313/313 [==============================] - 14s 45ms/step - loss: 0.4127 - accuracy: 0.8166 - val_loss: 0.4637 - val_accuracy: 0.7868\n",
            "Epoch 52/100\n",
            "313/313 [==============================] - 14s 44ms/step - loss: 0.4110 - accuracy: 0.8172 - val_loss: 0.4617 - val_accuracy: 0.7882\n",
            "Epoch 53/100\n",
            "313/313 [==============================] - 14s 45ms/step - loss: 0.4100 - accuracy: 0.8189 - val_loss: 0.4698 - val_accuracy: 0.7828\n",
            "Epoch 54/100\n",
            "313/313 [==============================] - 14s 46ms/step - loss: 0.4084 - accuracy: 0.8191 - val_loss: 0.4643 - val_accuracy: 0.7866\n",
            "Epoch 55/100\n",
            "313/313 [==============================] - 15s 47ms/step - loss: 0.4075 - accuracy: 0.8196 - val_loss: 0.4631 - val_accuracy: 0.7900\n"
          ]
        }
      ]
    },
    {
      "cell_type": "code",
      "source": [
        "plt.plot(history.history['loss'])\n",
        "plt.plot(history.history['val_loss'])\n",
        "plt.xlabel('epoch')\n",
        "plt.ylabel('loss')\n",
        "plt.legend(['train', 'val'])\n",
        "plt.show()"
      ],
      "metadata": {
        "colab": {
          "base_uri": "https://localhost:8080/",
          "height": 279
        },
        "id": "yNkGv2cPzc9x",
        "outputId": "04689070-2bd7-4e4e-e616-70bcf324ebc7"
      },
      "execution_count": 28,
      "outputs": [
        {
          "output_type": "display_data",
          "data": {
            "text/plain": [
              "<Figure size 432x288 with 1 Axes>"
            ],
            "image/png": "[encoded data removed]"
          },
          "metadata": {
            "needs_background": "light"
          }
        }
      ]
    },
    {
      "cell_type": "code",
      "source": [
        "print(train_seq.nbytes, train_oh.nbytes)"
      ],
      "metadata": {
        "colab": {
          "base_uri": "https://localhost:8080/"
        },
        "id": "kprUWKqq206V",
        "outputId": "a2821398-3911-4b32-bac2-ee10439e9cff"
      },
      "execution_count": 29,
      "outputs": [
        {
          "output_type": "stream",
          "name": "stdout",
          "text": [
            "8000000 4000000000\n"
          ]
        }
      ]
    },
    {
      "cell_type": "code",
      "source": [
        "model2 = keras.Sequential()\n",
        "model2.add(keras.layers.Embedding(500, 16, input_length = 100))\n",
        "model2.add(keras.layers.SimpleRNN(8))\n",
        "model2.add(keras.layers.Dense(1, activation = 'sigmoid'))"
      ],
      "metadata": {
        "id": "eOOKDL1S3Azr"
      },
      "execution_count": 38,
      "outputs": []
    },
    {
      "cell_type": "code",
      "source": [
        "model2.summary()"
      ],
      "metadata": {
        "colab": {
          "base_uri": "https://localhost:8080/"
        },
        "id": "_CysMzLt3b4M",
        "outputId": "0f6dc663-7f99-4f70-9b9e-8785b0420c5e"
      },
      "execution_count": 39,
      "outputs": [
        {
          "output_type": "stream",
          "name": "stdout",
          "text": [
            "Model: \"sequential_3\"\n",
            "_________________________________________________________________\n",
            " Layer (type)                Output Shape              Param #   \n",
            "=================================================================\n",
            " embedding_1 (Embedding)     (None, 100, 16)           8000      \n",
            "                                                                 \n",
            " simple_rnn_2 (SimpleRNN)    (None, 8)                 200       \n",
            "                                                                 \n",
            " dense_2 (Dense)             (None, 1)                 9         \n",
            "                                                                 \n",
            "=================================================================\n",
            "Total params: 8,209\n",
            "Trainable params: 8,209\n",
            "Non-trainable params: 0\n",
            "_________________________________________________________________\n"
          ]
        }
      ]
    },
    {
      "cell_type": "code",
      "source": [
        "rmsprop = keras.optimizers.RMSprop(learning_rate = 1e-4)\n",
        "model2.compile(optimizer = rmsprop, loss = 'binary_crossentropy', metrics = ['accuracy'])\n",
        "checkpoint_cb = keras.callbacks.ModelCheckpoint('best-embedding-model.h5', save_best_only = True)\n",
        "early_stopping_cb = keras.callbacks.EarlyStopping(patience = 3, restore_best_weights = True)\n",
        "history = model2.fit(train_seq, train_target, epochs = 100, batch_size = 64, validation_data = (val_seq, val_target), callbacks = [checkpoint_cb, early_stopping_cb])"
      ],
      "metadata": {
        "colab": {
          "base_uri": "https://localhost:8080/"
        },
        "id": "ZDU5w-Jt39Ai",
        "outputId": "069fcea5-d437-4ab9-f655-daac822ec241"
      },
      "execution_count": 40,
      "outputs": [
        {
          "output_type": "stream",
          "name": "stdout",
          "text": [
            "Epoch 1/100\n",
            "313/313 [==============================] - 10s 29ms/step - loss: 0.6958 - accuracy: 0.5120 - val_loss: 0.6925 - val_accuracy: 0.5220\n",
            "Epoch 2/100\n",
            "313/313 [==============================] - 7s 23ms/step - loss: 0.6888 - accuracy: 0.5391 - val_loss: 0.6888 - val_accuracy: 0.5320\n",
            "Epoch 3/100\n",
            "313/313 [==============================] - 7s 23ms/step - loss: 0.6827 - accuracy: 0.5663 - val_loss: 0.6840 - val_accuracy: 0.5558\n",
            "Epoch 4/100\n",
            "313/313 [==============================] - 7s 23ms/step - loss: 0.6751 - accuracy: 0.5918 - val_loss: 0.6757 - val_accuracy: 0.5856\n",
            "Epoch 5/100\n",
            "313/313 [==============================] - 7s 23ms/step - loss: 0.6633 - accuracy: 0.6227 - val_loss: 0.6609 - val_accuracy: 0.6212\n",
            "Epoch 6/100\n",
            "313/313 [==============================] - 8s 24ms/step - loss: 0.6184 - accuracy: 0.6821 - val_loss: 0.5904 - val_accuracy: 0.7064\n",
            "Epoch 7/100\n",
            "313/313 [==============================] - 7s 24ms/step - loss: 0.5694 - accuracy: 0.7296 - val_loss: 0.5688 - val_accuracy: 0.7256\n",
            "Epoch 8/100\n",
            "313/313 [==============================] - 7s 23ms/step - loss: 0.5458 - accuracy: 0.7498 - val_loss: 0.5523 - val_accuracy: 0.7386\n",
            "Epoch 9/100\n",
            "313/313 [==============================] - 7s 23ms/step - loss: 0.5285 - accuracy: 0.7624 - val_loss: 0.5383 - val_accuracy: 0.7462\n",
            "Epoch 10/100\n",
            "313/313 [==============================] - 7s 24ms/step - loss: 0.5140 - accuracy: 0.7717 - val_loss: 0.5276 - val_accuracy: 0.7566\n",
            "Epoch 11/100\n",
            "313/313 [==============================] - 7s 24ms/step - loss: 0.5009 - accuracy: 0.7807 - val_loss: 0.5242 - val_accuracy: 0.7614\n",
            "Epoch 12/100\n",
            "313/313 [==============================] - 8s 24ms/step - loss: 0.4905 - accuracy: 0.7861 - val_loss: 0.5067 - val_accuracy: 0.7656\n",
            "Epoch 13/100\n",
            "313/313 [==============================] - 8s 24ms/step - loss: 0.4806 - accuracy: 0.7910 - val_loss: 0.5028 - val_accuracy: 0.7680\n",
            "Epoch 14/100\n",
            "313/313 [==============================] - 8s 24ms/step - loss: 0.4714 - accuracy: 0.7940 - val_loss: 0.4958 - val_accuracy: 0.7734\n",
            "Epoch 15/100\n",
            "313/313 [==============================] - 7s 24ms/step - loss: 0.4634 - accuracy: 0.7973 - val_loss: 0.4876 - val_accuracy: 0.7748\n",
            "Epoch 16/100\n",
            "313/313 [==============================] - 7s 23ms/step - loss: 0.4557 - accuracy: 0.8030 - val_loss: 0.4851 - val_accuracy: 0.7766\n",
            "Epoch 17/100\n",
            "313/313 [==============================] - 7s 23ms/step - loss: 0.4505 - accuracy: 0.8043 - val_loss: 0.4801 - val_accuracy: 0.7784\n",
            "Epoch 18/100\n",
            "313/313 [==============================] - 7s 24ms/step - loss: 0.4445 - accuracy: 0.8077 - val_loss: 0.4767 - val_accuracy: 0.7796\n",
            "Epoch 19/100\n",
            "313/313 [==============================] - 7s 24ms/step - loss: 0.4385 - accuracy: 0.8092 - val_loss: 0.4756 - val_accuracy: 0.7778\n",
            "Epoch 20/100\n",
            "313/313 [==============================] - 8s 24ms/step - loss: 0.4337 - accuracy: 0.8125 - val_loss: 0.4742 - val_accuracy: 0.7774\n",
            "Epoch 21/100\n",
            "313/313 [==============================] - 8s 24ms/step - loss: 0.4290 - accuracy: 0.8142 - val_loss: 0.4828 - val_accuracy: 0.7716\n",
            "Epoch 22/100\n",
            "313/313 [==============================] - 8s 25ms/step - loss: 0.4252 - accuracy: 0.8155 - val_loss: 0.4731 - val_accuracy: 0.7782\n",
            "Epoch 23/100\n",
            "313/313 [==============================] - 8s 24ms/step - loss: 0.4219 - accuracy: 0.8177 - val_loss: 0.4698 - val_accuracy: 0.7786\n",
            "Epoch 24/100\n",
            "313/313 [==============================] - 7s 24ms/step - loss: 0.4181 - accuracy: 0.8210 - val_loss: 0.4692 - val_accuracy: 0.7816\n",
            "Epoch 25/100\n",
            "313/313 [==============================] - 7s 23ms/step - loss: 0.4156 - accuracy: 0.8217 - val_loss: 0.4720 - val_accuracy: 0.7772\n",
            "Epoch 26/100\n",
            "313/313 [==============================] - 7s 23ms/step - loss: 0.4127 - accuracy: 0.8236 - val_loss: 0.4745 - val_accuracy: 0.7730\n",
            "Epoch 27/100\n",
            "313/313 [==============================] - 7s 23ms/step - loss: 0.4099 - accuracy: 0.8245 - val_loss: 0.4763 - val_accuracy: 0.7772\n"
          ]
        }
      ]
    },
    {
      "cell_type": "code",
      "source": [
        "plt.plot(history.history['loss'])\n",
        "plt.plot(history.history['val_loss'])\n",
        "plt.xlabel('epoch')\n",
        "plt.ylabel('loss')\n",
        "plt.legend(['train', 'val'])\n",
        "plt.show()"
      ],
      "metadata": {
        "colab": {
          "base_uri": "https://localhost:8080/",
          "height": 279
        },
        "id": "zLaLutlt5KD1",
        "outputId": "deae6471-d0db-4042-a9c2-436893eaebb1"
      },
      "execution_count": 41,
      "outputs": [
        {
          "output_type": "display_data",
          "data": {
            "text/plain": [
              "<Figure size 432x288 with 1 Axes>"
            ],
            "image/png": "[encoded data removed]"
          },
          "metadata": {
            "needs_background": "light"
          }
        }
      ]
    },
    {
      "cell_type": "markdown",
      "source": [
        "## **Chapter 9-3**"
      ],
      "metadata": {
        "id": "Oa0sYaqI7Wn1"
      }
    },
    {
      "cell_type": "code",
      "source": [
        "from tensorflow.keras.datasets import imdb\n",
        "from sklearn.model_selection import train_test_split\n",
        "(train_input, train_target), (test_input, test_target) = imdb.load_data(num_words = 500)\n",
        "train_input, val_input, train_target, val_target = train_test_split(train_input, train_target, test_size = 0.2, random_state = 42)"
      ],
      "metadata": {
        "colab": {
          "base_uri": "https://localhost:8080/"
        },
        "id": "UnkEIyVk7Ysb",
        "outputId": "479bf301-dfe2-4456-fa9c-148c0f5e455f"
      },
      "execution_count": 1,
      "outputs": [
        {
          "output_type": "stream",
          "name": "stdout",
          "text": [
            "Downloading data from https://storage.googleapis.com/tensorflow/tf-keras-datasets/imdb.npz\n",
            "17465344/17464789 [==============================] - 0s 0us/step\n",
            "17473536/17464789 [==============================] - 0s 0us/step\n"
          ]
        }
      ]
    },
    {
      "cell_type": "code",
      "source": [
        "from tensorflow.keras.preprocessing.sequence import pad_sequences\n",
        "train_seq = pad_sequences(train_input, maxlen = 100)\n",
        "val_seq = pad_sequences(val_input, maxlen = 100)"
      ],
      "metadata": {
        "id": "_xlR27VDGCi2"
      },
      "execution_count": 4,
      "outputs": []
    },
    {
      "cell_type": "code",
      "source": [
        "from tensorflow import keras\n",
        "model = keras.Sequential()\n",
        "model.add(keras.layers.Embedding(500, 16, input_length = 100))\n",
        "model.add(keras.layers.LSTM(8))\n",
        "model.add(keras.layers.Dense(1, activation = 'sigmoid'))"
      ],
      "metadata": {
        "id": "s8WBtQMoGOdP"
      },
      "execution_count": 5,
      "outputs": []
    },
    {
      "cell_type": "code",
      "source": [
        "model.summary()"
      ],
      "metadata": {
        "colab": {
          "base_uri": "https://localhost:8080/"
        },
        "id": "vDQFVl0ZGkmE",
        "outputId": "2762e31e-8f8f-4d5f-fd90-f8c3469c043c"
      },
      "execution_count": 6,
      "outputs": [
        {
          "output_type": "stream",
          "name": "stdout",
          "text": [
            "Model: \"sequential\"\n",
            "_________________________________________________________________\n",
            " Layer (type)                Output Shape              Param #   \n",
            "=================================================================\n",
            " embedding (Embedding)       (None, 100, 16)           8000      \n",
            "                                                                 \n",
            " lstm (LSTM)                 (None, 8)                 800       \n",
            "                                                                 \n",
            " dense (Dense)               (None, 1)                 9         \n",
            "                                                                 \n",
            "=================================================================\n",
            "Total params: 8,809\n",
            "Trainable params: 8,809\n",
            "Non-trainable params: 0\n",
            "_________________________________________________________________\n"
          ]
        }
      ]
    },
    {
      "cell_type": "code",
      "source": [
        "rmsprop = keras.optimizers.RMSprop(learning_rate = 1e-4)\n",
        "model.compile(optimizer = rmsprop, loss = 'binary_crossentropy', metrics = ['accuracy'])\n",
        "checkpoint_cb = keras.callbacks.ModelCheckpoint('best-lstm-model.h5', save_best_only = True)\n",
        "early_stopping_cb = keras.callbacks.EarlyStopping(patience = 3, restore_best_weights = True)\n",
        "history = model.fit(train_seq, train_target, epochs = 100, batch_size = 64, validation_data = (val_seq, val_target), callbacks = [checkpoint_cb, early_stopping_cb])"
      ],
      "metadata": {
        "colab": {
          "base_uri": "https://localhost:8080/"
        },
        "id": "DJU41fLDGnEo",
        "outputId": "ffb69c25-f6c9-4076-8670-73a70afe4b81"
      },
      "execution_count": 8,
      "outputs": [
        {
          "output_type": "stream",
          "name": "stdout",
          "text": [
            "Epoch 1/100\n",
            "313/313 [==============================] - 18s 26ms/step - loss: 0.6922 - accuracy: 0.5451 - val_loss: 0.6911 - val_accuracy: 0.5932\n",
            "Epoch 2/100\n",
            "313/313 [==============================] - 7s 23ms/step - loss: 0.6894 - accuracy: 0.6115 - val_loss: 0.6871 - val_accuracy: 0.6308\n",
            "Epoch 3/100\n",
            "313/313 [==============================] - 7s 22ms/step - loss: 0.6789 - accuracy: 0.6312 - val_loss: 0.6647 - val_accuracy: 0.6172\n",
            "Epoch 4/100\n",
            "313/313 [==============================] - 7s 23ms/step - loss: 0.6345 - accuracy: 0.7045 - val_loss: 0.6184 - val_accuracy: 0.7276\n",
            "Epoch 5/100\n",
            "313/313 [==============================] - 7s 22ms/step - loss: 0.5996 - accuracy: 0.7376 - val_loss: 0.5959 - val_accuracy: 0.7248\n",
            "Epoch 6/100\n",
            "313/313 [==============================] - 6s 20ms/step - loss: 0.5761 - accuracy: 0.7485 - val_loss: 0.5772 - val_accuracy: 0.7442\n",
            "Epoch 7/100\n",
            "313/313 [==============================] - 6s 20ms/step - loss: 0.5555 - accuracy: 0.7584 - val_loss: 0.5557 - val_accuracy: 0.7468\n",
            "Epoch 8/100\n",
            "313/313 [==============================] - 6s 20ms/step - loss: 0.5372 - accuracy: 0.7699 - val_loss: 0.5409 - val_accuracy: 0.7552\n",
            "Epoch 9/100\n",
            "313/313 [==============================] - 6s 20ms/step - loss: 0.5218 - accuracy: 0.7763 - val_loss: 0.5254 - val_accuracy: 0.7630\n",
            "Epoch 10/100\n",
            "313/313 [==============================] - 6s 20ms/step - loss: 0.5091 - accuracy: 0.7823 - val_loss: 0.5138 - val_accuracy: 0.7704\n",
            "Epoch 11/100\n",
            "313/313 [==============================] - 6s 20ms/step - loss: 0.4965 - accuracy: 0.7883 - val_loss: 0.5037 - val_accuracy: 0.7770\n",
            "Epoch 12/100\n",
            "313/313 [==============================] - 6s 20ms/step - loss: 0.4850 - accuracy: 0.7926 - val_loss: 0.4928 - val_accuracy: 0.7820\n",
            "Epoch 13/100\n",
            "313/313 [==============================] - 6s 20ms/step - loss: 0.4740 - accuracy: 0.7968 - val_loss: 0.4832 - val_accuracy: 0.7846\n",
            "Epoch 14/100\n",
            "313/313 [==============================] - 6s 21ms/step - loss: 0.4649 - accuracy: 0.7990 - val_loss: 0.4753 - val_accuracy: 0.7866\n",
            "Epoch 15/100\n",
            "313/313 [==============================] - 6s 20ms/step - loss: 0.4570 - accuracy: 0.8017 - val_loss: 0.4731 - val_accuracy: 0.7826\n",
            "Epoch 16/100\n",
            "313/313 [==============================] - 7s 21ms/step - loss: 0.4510 - accuracy: 0.8025 - val_loss: 0.4680 - val_accuracy: 0.7886\n",
            "Epoch 17/100\n",
            "313/313 [==============================] - 6s 21ms/step - loss: 0.4458 - accuracy: 0.8045 - val_loss: 0.4614 - val_accuracy: 0.7916\n",
            "Epoch 18/100\n",
            "313/313 [==============================] - 6s 21ms/step - loss: 0.4414 - accuracy: 0.8054 - val_loss: 0.4578 - val_accuracy: 0.7930\n",
            "Epoch 19/100\n",
            "313/313 [==============================] - 6s 21ms/step - loss: 0.4372 - accuracy: 0.8079 - val_loss: 0.4558 - val_accuracy: 0.7928\n",
            "Epoch 20/100\n",
            "313/313 [==============================] - 7s 21ms/step - loss: 0.4338 - accuracy: 0.8091 - val_loss: 0.4520 - val_accuracy: 0.7934\n",
            "Epoch 21/100\n",
            "313/313 [==============================] - 6s 20ms/step - loss: 0.4311 - accuracy: 0.8112 - val_loss: 0.4493 - val_accuracy: 0.7970\n",
            "Epoch 22/100\n",
            "313/313 [==============================] - 6s 20ms/step - loss: 0.4280 - accuracy: 0.8125 - val_loss: 0.4508 - val_accuracy: 0.7910\n",
            "Epoch 23/100\n",
            "313/313 [==============================] - 6s 20ms/step - loss: 0.4254 - accuracy: 0.8125 - val_loss: 0.4457 - val_accuracy: 0.7982\n",
            "Epoch 24/100\n",
            "313/313 [==============================] - 6s 21ms/step - loss: 0.4232 - accuracy: 0.8143 - val_loss: 0.4456 - val_accuracy: 0.7966\n",
            "Epoch 25/100\n",
            "313/313 [==============================] - 6s 20ms/step - loss: 0.4215 - accuracy: 0.8152 - val_loss: 0.4464 - val_accuracy: 0.7974\n",
            "Epoch 26/100\n",
            "313/313 [==============================] - 6s 20ms/step - loss: 0.4195 - accuracy: 0.8162 - val_loss: 0.4482 - val_accuracy: 0.7892\n",
            "Epoch 27/100\n",
            "313/313 [==============================] - 6s 21ms/step - loss: 0.4186 - accuracy: 0.8156 - val_loss: 0.4396 - val_accuracy: 0.8010\n",
            "Epoch 28/100\n",
            "313/313 [==============================] - 6s 20ms/step - loss: 0.4167 - accuracy: 0.8164 - val_loss: 0.4410 - val_accuracy: 0.7992\n",
            "Epoch 29/100\n",
            "313/313 [==============================] - 6s 20ms/step - loss: 0.4155 - accuracy: 0.8163 - val_loss: 0.4421 - val_accuracy: 0.8000\n",
            "Epoch 30/100\n",
            "313/313 [==============================] - 6s 20ms/step - loss: 0.4144 - accuracy: 0.8156 - val_loss: 0.4366 - val_accuracy: 0.8024\n",
            "Epoch 31/100\n",
            "313/313 [==============================] - 6s 20ms/step - loss: 0.4135 - accuracy: 0.8163 - val_loss: 0.4394 - val_accuracy: 0.8004\n",
            "Epoch 32/100\n",
            "313/313 [==============================] - 6s 20ms/step - loss: 0.4121 - accuracy: 0.8168 - val_loss: 0.4374 - val_accuracy: 0.8026\n",
            "Epoch 33/100\n",
            "313/313 [==============================] - 6s 20ms/step - loss: 0.4113 - accuracy: 0.8176 - val_loss: 0.4330 - val_accuracy: 0.8034\n",
            "Epoch 34/100\n",
            "313/313 [==============================] - 6s 20ms/step - loss: 0.4105 - accuracy: 0.8179 - val_loss: 0.4363 - val_accuracy: 0.8022\n",
            "Epoch 35/100\n",
            "313/313 [==============================] - 6s 21ms/step - loss: 0.4097 - accuracy: 0.8177 - val_loss: 0.4325 - val_accuracy: 0.8022\n",
            "Epoch 36/100\n",
            "313/313 [==============================] - 6s 20ms/step - loss: 0.4089 - accuracy: 0.8174 - val_loss: 0.4372 - val_accuracy: 0.8038\n",
            "Epoch 37/100\n",
            "313/313 [==============================] - 6s 20ms/step - loss: 0.4079 - accuracy: 0.8191 - val_loss: 0.4307 - val_accuracy: 0.8054\n",
            "Epoch 38/100\n",
            "313/313 [==============================] - 6s 20ms/step - loss: 0.4071 - accuracy: 0.8180 - val_loss: 0.4304 - val_accuracy: 0.8054\n",
            "Epoch 39/100\n",
            "313/313 [==============================] - 6s 20ms/step - loss: 0.4063 - accuracy: 0.8178 - val_loss: 0.4306 - val_accuracy: 0.8044\n",
            "Epoch 40/100\n",
            "313/313 [==============================] - 6s 20ms/step - loss: 0.4061 - accuracy: 0.8191 - val_loss: 0.4315 - val_accuracy: 0.8046\n",
            "Epoch 41/100\n",
            "313/313 [==============================] - 6s 20ms/step - loss: 0.4049 - accuracy: 0.8196 - val_loss: 0.4308 - val_accuracy: 0.8028\n"
          ]
        }
      ]
    },
    {
      "cell_type": "code",
      "source": [
        "import matplotlib.pyplot as plt\n",
        "plt.plot(history.history['loss'])\n",
        "plt.plot(history.history['val_loss'])\n",
        "plt.xlabel('epoch')\n",
        "plt.ylabel('loss')\n",
        "plt.legend(['train', 'val'])\n",
        "plt.show()"
      ],
      "metadata": {
        "colab": {
          "base_uri": "https://localhost:8080/",
          "height": 279
        },
        "id": "1uRuVYg7HXKU",
        "outputId": "2236f968-3e50-47b0-9d40-e907b405e7cc"
      },
      "execution_count": 10,
      "outputs": [
        {
          "output_type": "display_data",
          "data": {
            "text/plain": [
              "<Figure size 432x288 with 1 Axes>"
            ],
            "image/png": "[encoded data removed]"
          },
          "metadata": {
            "needs_background": "light"
          }
        }
      ]
    },
    {
      "cell_type": "code",
      "source": [
        "model2 = keras.Sequential()\n",
        "model2.add(keras.layers.Embedding(500, 16, input_length = 100))\n",
        "model2.add(keras.layers.LSTM(8, dropout = 0.3))\n",
        "model2.add(keras.layers.Dense(1, activation = 'sigmoid'))"
      ],
      "metadata": {
        "id": "A-zjGTcUIwwz"
      },
      "execution_count": 11,
      "outputs": []
    },
    {
      "cell_type": "code",
      "source": [
        "rmsprop = keras.optimizers.RMSprop(learning_rate = 1e-4)\n",
        "model2.compile(optimizer = rmsprop, loss = 'binary_crossentropy', metrics = ['accuracy'])\n",
        "checkpoint_cb = keras.callbacks.ModelCheckpoint('best-dropout-model.h5', save_best_only = True)\n",
        "early_stopping_cb = keras.callbacks.EarlyStopping(patience = 3, restore_best_weights = True)\n",
        "history = model2.fit(train_seq, train_target, epochs = 100, batch_size = 64, validation_data = (val_seq, val_target), callbacks = [checkpoint_cb, early_stopping_cb])"
      ],
      "metadata": {
        "colab": {
          "base_uri": "https://localhost:8080/"
        },
        "id": "RwTj07ibJhQc",
        "outputId": "2fac3a0d-9cfb-422c-cc93-d43c0f272fa8"
      },
      "execution_count": 12,
      "outputs": [
        {
          "output_type": "stream",
          "name": "stdout",
          "text": [
            "Epoch 1/100\n",
            "313/313 [==============================] - 11s 22ms/step - loss: 0.6927 - accuracy: 0.5266 - val_loss: 0.6919 - val_accuracy: 0.5756\n",
            "Epoch 2/100\n",
            "313/313 [==============================] - 6s 20ms/step - loss: 0.6910 - accuracy: 0.5848 - val_loss: 0.6896 - val_accuracy: 0.6186\n",
            "Epoch 3/100\n",
            "313/313 [==============================] - 6s 21ms/step - loss: 0.6872 - accuracy: 0.6245 - val_loss: 0.6841 - val_accuracy: 0.6592\n",
            "Epoch 4/100\n",
            "313/313 [==============================] - 6s 21ms/step - loss: 0.6741 - accuracy: 0.6472 - val_loss: 0.6519 - val_accuracy: 0.6862\n",
            "Epoch 5/100\n",
            "313/313 [==============================] - 6s 20ms/step - loss: 0.6254 - accuracy: 0.7060 - val_loss: 0.6042 - val_accuracy: 0.7284\n",
            "Epoch 6/100\n",
            "313/313 [==============================] - 6s 20ms/step - loss: 0.5989 - accuracy: 0.7264 - val_loss: 0.5867 - val_accuracy: 0.7370\n",
            "Epoch 7/100\n",
            "313/313 [==============================] - 6s 21ms/step - loss: 0.5794 - accuracy: 0.7440 - val_loss: 0.5712 - val_accuracy: 0.7448\n",
            "Epoch 8/100\n",
            "313/313 [==============================] - 6s 20ms/step - loss: 0.5636 - accuracy: 0.7493 - val_loss: 0.5551 - val_accuracy: 0.7594\n",
            "Epoch 9/100\n",
            "313/313 [==============================] - 6s 21ms/step - loss: 0.5481 - accuracy: 0.7617 - val_loss: 0.5433 - val_accuracy: 0.7582\n",
            "Epoch 10/100\n",
            "313/313 [==============================] - 6s 20ms/step - loss: 0.5362 - accuracy: 0.7650 - val_loss: 0.5320 - val_accuracy: 0.7618\n",
            "Epoch 11/100\n",
            "313/313 [==============================] - 6s 21ms/step - loss: 0.5229 - accuracy: 0.7714 - val_loss: 0.5201 - val_accuracy: 0.7746\n",
            "Epoch 12/100\n",
            "313/313 [==============================] - 6s 21ms/step - loss: 0.5108 - accuracy: 0.7758 - val_loss: 0.5081 - val_accuracy: 0.7770\n",
            "Epoch 13/100\n",
            "313/313 [==============================] - 7s 21ms/step - loss: 0.5001 - accuracy: 0.7815 - val_loss: 0.4984 - val_accuracy: 0.7766\n",
            "Epoch 14/100\n",
            "313/313 [==============================] - 6s 21ms/step - loss: 0.4900 - accuracy: 0.7862 - val_loss: 0.4895 - val_accuracy: 0.7784\n",
            "Epoch 15/100\n",
            "313/313 [==============================] - 6s 20ms/step - loss: 0.4813 - accuracy: 0.7900 - val_loss: 0.4810 - val_accuracy: 0.7818\n",
            "Epoch 16/100\n",
            "313/313 [==============================] - 6s 20ms/step - loss: 0.4716 - accuracy: 0.7932 - val_loss: 0.4754 - val_accuracy: 0.7874\n",
            "Epoch 17/100\n",
            "313/313 [==============================] - 6s 21ms/step - loss: 0.4649 - accuracy: 0.7941 - val_loss: 0.4668 - val_accuracy: 0.7848\n",
            "Epoch 18/100\n",
            "313/313 [==============================] - 7s 21ms/step - loss: 0.4599 - accuracy: 0.7965 - val_loss: 0.4659 - val_accuracy: 0.7868\n",
            "Epoch 19/100\n",
            "313/313 [==============================] - 7s 21ms/step - loss: 0.4510 - accuracy: 0.7993 - val_loss: 0.4583 - val_accuracy: 0.7904\n",
            "Epoch 20/100\n",
            "313/313 [==============================] - 6s 21ms/step - loss: 0.4483 - accuracy: 0.8004 - val_loss: 0.4552 - val_accuracy: 0.7916\n",
            "Epoch 21/100\n",
            "313/313 [==============================] - 6s 20ms/step - loss: 0.4432 - accuracy: 0.8014 - val_loss: 0.4527 - val_accuracy: 0.7932\n",
            "Epoch 22/100\n",
            "313/313 [==============================] - 6s 20ms/step - loss: 0.4395 - accuracy: 0.8053 - val_loss: 0.4479 - val_accuracy: 0.7950\n",
            "Epoch 23/100\n",
            "313/313 [==============================] - 6s 21ms/step - loss: 0.4368 - accuracy: 0.8066 - val_loss: 0.4458 - val_accuracy: 0.7966\n",
            "Epoch 24/100\n",
            "313/313 [==============================] - 6s 20ms/step - loss: 0.4343 - accuracy: 0.8059 - val_loss: 0.4420 - val_accuracy: 0.7974\n",
            "Epoch 25/100\n",
            "313/313 [==============================] - 6s 21ms/step - loss: 0.4325 - accuracy: 0.8042 - val_loss: 0.4407 - val_accuracy: 0.7990\n",
            "Epoch 26/100\n",
            "313/313 [==============================] - 6s 20ms/step - loss: 0.4303 - accuracy: 0.8067 - val_loss: 0.4382 - val_accuracy: 0.7984\n",
            "Epoch 27/100\n",
            "313/313 [==============================] - 6s 20ms/step - loss: 0.4273 - accuracy: 0.8065 - val_loss: 0.4372 - val_accuracy: 0.7976\n",
            "Epoch 28/100\n",
            "313/313 [==============================] - 6s 20ms/step - loss: 0.4274 - accuracy: 0.8063 - val_loss: 0.4368 - val_accuracy: 0.7962\n",
            "Epoch 29/100\n",
            "313/313 [==============================] - 6s 21ms/step - loss: 0.4243 - accuracy: 0.8055 - val_loss: 0.4357 - val_accuracy: 0.7974\n",
            "Epoch 30/100\n",
            "313/313 [==============================] - 6s 20ms/step - loss: 0.4240 - accuracy: 0.8087 - val_loss: 0.4334 - val_accuracy: 0.8002\n",
            "Epoch 31/100\n",
            "313/313 [==============================] - 6s 20ms/step - loss: 0.4222 - accuracy: 0.8083 - val_loss: 0.4333 - val_accuracy: 0.8008\n",
            "Epoch 32/100\n",
            "313/313 [==============================] - 6s 21ms/step - loss: 0.4198 - accuracy: 0.8102 - val_loss: 0.4322 - val_accuracy: 0.8016\n",
            "Epoch 33/100\n",
            "313/313 [==============================] - 6s 20ms/step - loss: 0.4171 - accuracy: 0.8098 - val_loss: 0.4375 - val_accuracy: 0.8008\n",
            "Epoch 34/100\n",
            "313/313 [==============================] - 6s 20ms/step - loss: 0.4166 - accuracy: 0.8128 - val_loss: 0.4308 - val_accuracy: 0.8032\n",
            "Epoch 35/100\n",
            "313/313 [==============================] - 6s 20ms/step - loss: 0.4161 - accuracy: 0.8112 - val_loss: 0.4304 - val_accuracy: 0.8032\n",
            "Epoch 36/100\n",
            "313/313 [==============================] - 7s 21ms/step - loss: 0.4156 - accuracy: 0.8129 - val_loss: 0.4297 - val_accuracy: 0.8016\n",
            "Epoch 37/100\n",
            "313/313 [==============================] - 6s 20ms/step - loss: 0.4155 - accuracy: 0.8126 - val_loss: 0.4340 - val_accuracy: 0.8012\n",
            "Epoch 38/100\n",
            "313/313 [==============================] - 6s 20ms/step - loss: 0.4140 - accuracy: 0.8110 - val_loss: 0.4297 - val_accuracy: 0.8044\n",
            "Epoch 39/100\n",
            "313/313 [==============================] - 6s 20ms/step - loss: 0.4140 - accuracy: 0.8101 - val_loss: 0.4297 - val_accuracy: 0.7986\n"
          ]
        }
      ]
    },
    {
      "cell_type": "code",
      "source": [
        "plt.plot(history.history['loss'])\n",
        "plt.plot(history.history['val_loss'])\n",
        "plt.xlabel('epoch')\n",
        "plt.ylabel('loss')\n",
        "plt.legend(['train', 'val'])\n",
        "plt.show()"
      ],
      "metadata": {
        "colab": {
          "base_uri": "https://localhost:8080/",
          "height": 279
        },
        "id": "jrKd8DdcJ7Fy",
        "outputId": "0dba4fb1-977c-4d94-a66b-74f1b15d2595"
      },
      "execution_count": 13,
      "outputs": [
        {
          "output_type": "display_data",
          "data": {
            "text/plain": [
              "<Figure size 432x288 with 1 Axes>"
            ],
            "image/png": "[encoded data removed]"
          },
          "metadata": {
            "needs_background": "light"
          }
        }
      ]
    },
    {
      "cell_type": "code",
      "source": [
        "model3 = keras.Sequential()\n",
        "model3.add(keras.layers.Embedding(500, 16, input_length = 100))\n",
        "model3.add(keras.layers.LSTM(8, dropout = 0.3, return_sequences = True))\n",
        "model3.add(keras.layers.LSTM(8, dropout = 0.3))\n",
        "model3.add(keras.layers.Dense(1, activation = 'sigmoid'))"
      ],
      "metadata": {
        "id": "cLCVT1lbK-vD"
      },
      "execution_count": 14,
      "outputs": []
    },
    {
      "cell_type": "code",
      "source": [
        "model3.summary()"
      ],
      "metadata": {
        "colab": {
          "base_uri": "https://localhost:8080/"
        },
        "id": "juDMoynoLnKm",
        "outputId": "9d707812-1a78-4079-f723-e8f4d2da7a85"
      },
      "execution_count": 15,
      "outputs": [
        {
          "output_type": "stream",
          "name": "stdout",
          "text": [
            "Model: \"sequential_2\"\n",
            "_________________________________________________________________\n",
            " Layer (type)                Output Shape              Param #   \n",
            "=================================================================\n",
            " embedding_2 (Embedding)     (None, 100, 16)           8000      \n",
            "                                                                 \n",
            " lstm_2 (LSTM)               (None, 100, 8)            800       \n",
            "                                                                 \n",
            " lstm_3 (LSTM)               (None, 8)                 544       \n",
            "                                                                 \n",
            " dense_2 (Dense)             (None, 1)                 9         \n",
            "                                                                 \n",
            "=================================================================\n",
            "Total params: 9,353\n",
            "Trainable params: 9,353\n",
            "Non-trainable params: 0\n",
            "_________________________________________________________________\n"
          ]
        }
      ]
    },
    {
      "cell_type": "code",
      "source": [
        "rmsprop = keras.optimizers.RMSprop(learning_rate = 1e-4)\n",
        "model3.compile(optimizer = rmsprop, loss = 'binary_crossentropy', metrics = ['accuracy'])\n",
        "checkpoint_cb = keras.callbacks.ModelCheckpoint('best-2rnn-model.h5', save_best_only = True)\n",
        "early_stopping_cb = keras.callbacks.EarlyStopping(patience = 3, restore_best_weights = True)\n",
        "history = model3.fit(train_seq, train_target, epochs = 100, batch_size = 64, validation_data = (val_seq, val_target), callbacks = [checkpoint_cb, early_stopping_cb])"
      ],
      "metadata": {
        "colab": {
          "base_uri": "https://localhost:8080/"
        },
        "id": "iA7F3W5GLpzH",
        "outputId": "46b6963d-174c-4838-fd43-de3d17707f31"
      },
      "execution_count": 16,
      "outputs": [
        {
          "output_type": "stream",
          "name": "stdout",
          "text": [
            "Epoch 1/100\n",
            "313/313 [==============================] - 18s 45ms/step - loss: 0.6926 - accuracy: 0.5342 - val_loss: 0.6920 - val_accuracy: 0.5734\n",
            "Epoch 2/100\n",
            "313/313 [==============================] - 13s 42ms/step - loss: 0.6896 - accuracy: 0.5939 - val_loss: 0.6867 - val_accuracy: 0.5522\n",
            "Epoch 3/100\n",
            "313/313 [==============================] - 13s 42ms/step - loss: 0.6685 - accuracy: 0.6199 - val_loss: 0.6403 - val_accuracy: 0.6850\n",
            "Epoch 4/100\n",
            "313/313 [==============================] - 13s 42ms/step - loss: 0.6011 - accuracy: 0.7063 - val_loss: 0.5780 - val_accuracy: 0.7186\n",
            "Epoch 5/100\n",
            "313/313 [==============================] - 13s 42ms/step - loss: 0.5612 - accuracy: 0.7276 - val_loss: 0.5507 - val_accuracy: 0.7286\n",
            "Epoch 6/100\n",
            "313/313 [==============================] - 13s 42ms/step - loss: 0.5399 - accuracy: 0.7412 - val_loss: 0.5290 - val_accuracy: 0.7522\n",
            "Epoch 7/100\n",
            "313/313 [==============================] - 13s 42ms/step - loss: 0.5198 - accuracy: 0.7568 - val_loss: 0.5108 - val_accuracy: 0.7614\n",
            "Epoch 8/100\n",
            "313/313 [==============================] - 13s 42ms/step - loss: 0.5088 - accuracy: 0.7607 - val_loss: 0.4987 - val_accuracy: 0.7688\n",
            "Epoch 9/100\n",
            "313/313 [==============================] - 13s 42ms/step - loss: 0.4949 - accuracy: 0.7714 - val_loss: 0.4885 - val_accuracy: 0.7716\n",
            "Epoch 10/100\n",
            "313/313 [==============================] - 13s 42ms/step - loss: 0.4877 - accuracy: 0.7716 - val_loss: 0.4818 - val_accuracy: 0.7764\n",
            "Epoch 11/100\n",
            "313/313 [==============================] - 13s 42ms/step - loss: 0.4789 - accuracy: 0.7802 - val_loss: 0.4761 - val_accuracy: 0.7794\n",
            "Epoch 12/100\n",
            "313/313 [==============================] - 13s 42ms/step - loss: 0.4734 - accuracy: 0.7807 - val_loss: 0.4719 - val_accuracy: 0.7796\n",
            "Epoch 13/100\n",
            "313/313 [==============================] - 13s 42ms/step - loss: 0.4683 - accuracy: 0.7815 - val_loss: 0.4717 - val_accuracy: 0.7780\n",
            "Epoch 14/100\n",
            "313/313 [==============================] - 13s 42ms/step - loss: 0.4654 - accuracy: 0.7856 - val_loss: 0.4638 - val_accuracy: 0.7856\n",
            "Epoch 15/100\n",
            "313/313 [==============================] - 13s 42ms/step - loss: 0.4595 - accuracy: 0.7882 - val_loss: 0.4636 - val_accuracy: 0.7796\n",
            "Epoch 16/100\n",
            "313/313 [==============================] - 13s 41ms/step - loss: 0.4545 - accuracy: 0.7916 - val_loss: 0.4625 - val_accuracy: 0.7810\n",
            "Epoch 17/100\n",
            "313/313 [==============================] - 13s 42ms/step - loss: 0.4520 - accuracy: 0.7911 - val_loss: 0.4607 - val_accuracy: 0.7856\n",
            "Epoch 18/100\n",
            "313/313 [==============================] - 13s 42ms/step - loss: 0.4520 - accuracy: 0.7916 - val_loss: 0.4555 - val_accuracy: 0.7852\n",
            "Epoch 19/100\n",
            "313/313 [==============================] - 13s 42ms/step - loss: 0.4502 - accuracy: 0.7916 - val_loss: 0.4531 - val_accuracy: 0.7890\n",
            "Epoch 20/100\n",
            "313/313 [==============================] - 13s 41ms/step - loss: 0.4478 - accuracy: 0.7936 - val_loss: 0.4567 - val_accuracy: 0.7852\n",
            "Epoch 21/100\n",
            "313/313 [==============================] - 13s 42ms/step - loss: 0.4445 - accuracy: 0.7948 - val_loss: 0.4498 - val_accuracy: 0.7894\n",
            "Epoch 22/100\n",
            "313/313 [==============================] - 13s 42ms/step - loss: 0.4435 - accuracy: 0.7946 - val_loss: 0.4485 - val_accuracy: 0.7924\n",
            "Epoch 23/100\n",
            "313/313 [==============================] - 13s 42ms/step - loss: 0.4417 - accuracy: 0.7976 - val_loss: 0.4544 - val_accuracy: 0.7874\n",
            "Epoch 24/100\n",
            "313/313 [==============================] - 13s 42ms/step - loss: 0.4387 - accuracy: 0.7995 - val_loss: 0.4458 - val_accuracy: 0.7932\n",
            "Epoch 25/100\n",
            "313/313 [==============================] - 13s 42ms/step - loss: 0.4381 - accuracy: 0.7983 - val_loss: 0.4447 - val_accuracy: 0.7940\n",
            "Epoch 26/100\n",
            "313/313 [==============================] - 13s 42ms/step - loss: 0.4350 - accuracy: 0.8004 - val_loss: 0.4432 - val_accuracy: 0.7954\n",
            "Epoch 27/100\n",
            "313/313 [==============================] - 13s 42ms/step - loss: 0.4328 - accuracy: 0.8014 - val_loss: 0.4437 - val_accuracy: 0.7946\n",
            "Epoch 28/100\n",
            "313/313 [==============================] - 13s 42ms/step - loss: 0.4324 - accuracy: 0.8010 - val_loss: 0.4407 - val_accuracy: 0.7940\n",
            "Epoch 29/100\n",
            "313/313 [==============================] - 13s 42ms/step - loss: 0.4316 - accuracy: 0.8011 - val_loss: 0.4397 - val_accuracy: 0.7950\n",
            "Epoch 30/100\n",
            "313/313 [==============================] - 13s 42ms/step - loss: 0.4304 - accuracy: 0.8015 - val_loss: 0.4391 - val_accuracy: 0.7966\n",
            "Epoch 31/100\n",
            "313/313 [==============================] - 13s 42ms/step - loss: 0.4260 - accuracy: 0.8019 - val_loss: 0.4365 - val_accuracy: 0.7958\n",
            "Epoch 32/100\n",
            "313/313 [==============================] - 13s 42ms/step - loss: 0.4288 - accuracy: 0.8015 - val_loss: 0.4357 - val_accuracy: 0.7972\n",
            "Epoch 33/100\n",
            "313/313 [==============================] - 13s 42ms/step - loss: 0.4248 - accuracy: 0.8036 - val_loss: 0.4476 - val_accuracy: 0.7944\n",
            "Epoch 34/100\n",
            "313/313 [==============================] - 13s 42ms/step - loss: 0.4240 - accuracy: 0.8025 - val_loss: 0.4348 - val_accuracy: 0.7992\n",
            "Epoch 35/100\n",
            "313/313 [==============================] - 13s 42ms/step - loss: 0.4229 - accuracy: 0.8058 - val_loss: 0.4359 - val_accuracy: 0.7942\n",
            "Epoch 36/100\n",
            "313/313 [==============================] - 13s 42ms/step - loss: 0.4214 - accuracy: 0.8072 - val_loss: 0.4340 - val_accuracy: 0.7954\n",
            "Epoch 37/100\n",
            "313/313 [==============================] - 13s 42ms/step - loss: 0.4217 - accuracy: 0.8059 - val_loss: 0.4327 - val_accuracy: 0.8016\n",
            "Epoch 38/100\n",
            "313/313 [==============================] - 13s 42ms/step - loss: 0.4191 - accuracy: 0.8067 - val_loss: 0.4332 - val_accuracy: 0.8012\n",
            "Epoch 39/100\n",
            "313/313 [==============================] - 13s 42ms/step - loss: 0.4183 - accuracy: 0.8078 - val_loss: 0.4314 - val_accuracy: 0.7984\n",
            "Epoch 40/100\n",
            "313/313 [==============================] - 13s 42ms/step - loss: 0.4173 - accuracy: 0.8094 - val_loss: 0.4311 - val_accuracy: 0.8012\n",
            "Epoch 41/100\n",
            "313/313 [==============================] - 13s 42ms/step - loss: 0.4166 - accuracy: 0.8105 - val_loss: 0.4292 - val_accuracy: 0.8006\n",
            "Epoch 42/100\n",
            "313/313 [==============================] - 13s 42ms/step - loss: 0.4175 - accuracy: 0.8063 - val_loss: 0.4287 - val_accuracy: 0.8010\n",
            "Epoch 43/100\n",
            "313/313 [==============================] - 13s 42ms/step - loss: 0.4141 - accuracy: 0.8086 - val_loss: 0.4287 - val_accuracy: 0.8028\n",
            "Epoch 44/100\n",
            "313/313 [==============================] - 13s 42ms/step - loss: 0.4137 - accuracy: 0.8108 - val_loss: 0.4302 - val_accuracy: 0.8006\n",
            "Epoch 45/100\n",
            "313/313 [==============================] - 13s 42ms/step - loss: 0.4122 - accuracy: 0.8099 - val_loss: 0.4307 - val_accuracy: 0.7984\n",
            "Epoch 46/100\n",
            "313/313 [==============================] - 13s 42ms/step - loss: 0.4124 - accuracy: 0.8120 - val_loss: 0.4274 - val_accuracy: 0.8036\n",
            "Epoch 47/100\n",
            "313/313 [==============================] - 13s 41ms/step - loss: 0.4114 - accuracy: 0.8119 - val_loss: 0.4274 - val_accuracy: 0.8034\n",
            "Epoch 48/100\n",
            "313/313 [==============================] - 13s 42ms/step - loss: 0.4100 - accuracy: 0.8116 - val_loss: 0.4297 - val_accuracy: 0.8014\n",
            "Epoch 49/100\n",
            "313/313 [==============================] - 13s 42ms/step - loss: 0.4094 - accuracy: 0.8109 - val_loss: 0.4276 - val_accuracy: 0.8054\n",
            "Epoch 50/100\n",
            "313/313 [==============================] - 13s 42ms/step - loss: 0.4087 - accuracy: 0.8141 - val_loss: 0.4276 - val_accuracy: 0.8042\n"
          ]
        }
      ]
    },
    {
      "cell_type": "code",
      "source": [
        "plt.plot(history.history['loss'])\n",
        "plt.plot(history.history['val_loss'])\n",
        "plt.xlabel('epoch')\n",
        "plt.ylabel('loss')\n",
        "plt.legend(['train', 'val'])\n",
        "plt.show()"
      ],
      "metadata": {
        "colab": {
          "base_uri": "https://localhost:8080/",
          "height": 279
        },
        "id": "vmoPccxCL4Rl",
        "outputId": "06e26ac1-8f3c-4bb2-963e-88ffcf953706"
      },
      "execution_count": 17,
      "outputs": [
        {
          "output_type": "display_data",
          "data": {
            "text/plain": [
              "<Figure size 432x288 with 1 Axes>"
            ],
            "image/png": "[encoded data removed]"
          },
          "metadata": {
            "needs_background": "light"
          }
        }
      ]
    },
    {
      "cell_type": "code",
      "source": [
        "model4 = keras.Sequential()\n",
        "model4.add(keras.layers.Embedding(500, 16, input_length = 100))\n",
        "model4.add(keras.layers.GRU(8))\n",
        "model4.add(keras.layers.Dense(1, activation = 'sigmoid'))"
      ],
      "metadata": {
        "id": "ffNLafejPEDM"
      },
      "execution_count": 19,
      "outputs": []
    },
    {
      "cell_type": "code",
      "source": [
        "model4.summary()"
      ],
      "metadata": {
        "colab": {
          "base_uri": "https://localhost:8080/"
        },
        "id": "iGzgNFe2P2rv",
        "outputId": "cf76a643-afa5-4f13-846c-93cd0cea89c6"
      },
      "execution_count": 20,
      "outputs": [
        {
          "output_type": "stream",
          "name": "stdout",
          "text": [
            "Model: \"sequential_4\"\n",
            "_________________________________________________________________\n",
            " Layer (type)                Output Shape              Param #   \n",
            "=================================================================\n",
            " embedding_3 (Embedding)     (None, 100, 16)           8000      \n",
            "                                                                 \n",
            " gru (GRU)                   (None, 8)                 624       \n",
            "                                                                 \n",
            " dense_3 (Dense)             (None, 1)                 9         \n",
            "                                                                 \n",
            "=================================================================\n",
            "Total params: 8,633\n",
            "Trainable params: 8,633\n",
            "Non-trainable params: 0\n",
            "_________________________________________________________________\n"
          ]
        }
      ]
    },
    {
      "cell_type": "code",
      "source": [
        "rmsprop = keras.optimizers.RMSprop(learning_rate = 1e-4)\n",
        "model4.compile(optimizer = rmsprop, loss = 'binary_crossentropy', metrics = ['accuracy'])\n",
        "checkpoint_cb = keras.callbacks.ModelCheckpoint('best-gru-model.h5', save_best_only = True)\n",
        "early_stopping_cb = keras.callbacks.EarlyStopping(patience = 3, restore_best_weights = True)\n",
        "history = model4.fit(train_seq, train_target, epochs = 100, batch_size = 64, validation_data = (val_seq, val_target), callbacks = [checkpoint_cb, early_stopping_cb])"
      ],
      "metadata": {
        "colab": {
          "base_uri": "https://localhost:8080/"
        },
        "id": "Xm9B8_hvP6rd",
        "outputId": "9f85c305-7b27-42a5-9af1-a3389dc9b1da"
      },
      "execution_count": 21,
      "outputs": [
        {
          "output_type": "stream",
          "name": "stdout",
          "text": [
            "Epoch 1/100\n",
            "313/313 [==============================] - 10s 25ms/step - loss: 0.6924 - accuracy: 0.5242 - val_loss: 0.6916 - val_accuracy: 0.5684\n",
            "Epoch 2/100\n",
            "313/313 [==============================] - 7s 22ms/step - loss: 0.6904 - accuracy: 0.5842 - val_loss: 0.6894 - val_accuracy: 0.5984\n",
            "Epoch 3/100\n",
            "313/313 [==============================] - 6s 20ms/step - loss: 0.6872 - accuracy: 0.6036 - val_loss: 0.6855 - val_accuracy: 0.6052\n",
            "Epoch 4/100\n",
            "313/313 [==============================] - 6s 20ms/step - loss: 0.6821 - accuracy: 0.6148 - val_loss: 0.6797 - val_accuracy: 0.6088\n",
            "Epoch 5/100\n",
            "313/313 [==============================] - 6s 21ms/step - loss: 0.6740 - accuracy: 0.6246 - val_loss: 0.6709 - val_accuracy: 0.6164\n",
            "Epoch 6/100\n",
            "313/313 [==============================] - 6s 20ms/step - loss: 0.6621 - accuracy: 0.6353 - val_loss: 0.6578 - val_accuracy: 0.6286\n",
            "Epoch 7/100\n",
            "313/313 [==============================] - 6s 20ms/step - loss: 0.6452 - accuracy: 0.6479 - val_loss: 0.6396 - val_accuracy: 0.6378\n",
            "Epoch 8/100\n",
            "313/313 [==============================] - 6s 20ms/step - loss: 0.6205 - accuracy: 0.6648 - val_loss: 0.6122 - val_accuracy: 0.6652\n",
            "Epoch 9/100\n",
            "313/313 [==============================] - 6s 20ms/step - loss: 0.5822 - accuracy: 0.6950 - val_loss: 0.5678 - val_accuracy: 0.7086\n",
            "Epoch 10/100\n",
            "313/313 [==============================] - 6s 20ms/step - loss: 0.5269 - accuracy: 0.7376 - val_loss: 0.5236 - val_accuracy: 0.7490\n",
            "Epoch 11/100\n",
            "313/313 [==============================] - 6s 20ms/step - loss: 0.4978 - accuracy: 0.7601 - val_loss: 0.5012 - val_accuracy: 0.7562\n",
            "Epoch 12/100\n",
            "313/313 [==============================] - 6s 21ms/step - loss: 0.4817 - accuracy: 0.7718 - val_loss: 0.4869 - val_accuracy: 0.7712\n",
            "Epoch 13/100\n",
            "313/313 [==============================] - 6s 20ms/step - loss: 0.4695 - accuracy: 0.7800 - val_loss: 0.4784 - val_accuracy: 0.7766\n",
            "Epoch 14/100\n",
            "313/313 [==============================] - 6s 20ms/step - loss: 0.4599 - accuracy: 0.7867 - val_loss: 0.4698 - val_accuracy: 0.7808\n",
            "Epoch 15/100\n",
            "313/313 [==============================] - 6s 20ms/step - loss: 0.4521 - accuracy: 0.7908 - val_loss: 0.4653 - val_accuracy: 0.7808\n",
            "Epoch 16/100\n",
            "313/313 [==============================] - 6s 20ms/step - loss: 0.4458 - accuracy: 0.7943 - val_loss: 0.4585 - val_accuracy: 0.7838\n",
            "Epoch 17/100\n",
            "313/313 [==============================] - 6s 20ms/step - loss: 0.4405 - accuracy: 0.7987 - val_loss: 0.4568 - val_accuracy: 0.7828\n",
            "Epoch 18/100\n",
            "313/313 [==============================] - 6s 21ms/step - loss: 0.4363 - accuracy: 0.8019 - val_loss: 0.4515 - val_accuracy: 0.7900\n",
            "Epoch 19/100\n",
            "313/313 [==============================] - 6s 20ms/step - loss: 0.4329 - accuracy: 0.8029 - val_loss: 0.4496 - val_accuracy: 0.7902\n",
            "Epoch 20/100\n",
            "313/313 [==============================] - 6s 20ms/step - loss: 0.4302 - accuracy: 0.8059 - val_loss: 0.4476 - val_accuracy: 0.7910\n",
            "Epoch 21/100\n",
            "313/313 [==============================] - 6s 20ms/step - loss: 0.4275 - accuracy: 0.8084 - val_loss: 0.4466 - val_accuracy: 0.7902\n",
            "Epoch 22/100\n",
            "313/313 [==============================] - 6s 20ms/step - loss: 0.4253 - accuracy: 0.8098 - val_loss: 0.4452 - val_accuracy: 0.7914\n",
            "Epoch 23/100\n",
            "313/313 [==============================] - 6s 20ms/step - loss: 0.4239 - accuracy: 0.8117 - val_loss: 0.4449 - val_accuracy: 0.7922\n",
            "Epoch 24/100\n",
            "313/313 [==============================] - 6s 20ms/step - loss: 0.4228 - accuracy: 0.8117 - val_loss: 0.4454 - val_accuracy: 0.7906\n",
            "Epoch 25/100\n",
            "313/313 [==============================] - 6s 20ms/step - loss: 0.4211 - accuracy: 0.8132 - val_loss: 0.4434 - val_accuracy: 0.7948\n",
            "Epoch 26/100\n",
            "313/313 [==============================] - 6s 20ms/step - loss: 0.4200 - accuracy: 0.8123 - val_loss: 0.4433 - val_accuracy: 0.7956\n",
            "Epoch 27/100\n",
            "313/313 [==============================] - 6s 20ms/step - loss: 0.4189 - accuracy: 0.8141 - val_loss: 0.4424 - val_accuracy: 0.7958\n",
            "Epoch 28/100\n",
            "313/313 [==============================] - 6s 20ms/step - loss: 0.4182 - accuracy: 0.8155 - val_loss: 0.4447 - val_accuracy: 0.7946\n",
            "Epoch 29/100\n",
            "313/313 [==============================] - 6s 20ms/step - loss: 0.4178 - accuracy: 0.8144 - val_loss: 0.4428 - val_accuracy: 0.7930\n",
            "Epoch 30/100\n",
            "313/313 [==============================] - 6s 20ms/step - loss: 0.4168 - accuracy: 0.8157 - val_loss: 0.4468 - val_accuracy: 0.7874\n"
          ]
        }
      ]
    },
    {
      "cell_type": "code",
      "source": [
        "plt.plot(history.history['loss'])\n",
        "plt.plot(history.history['val_loss'])\n",
        "plt.xlabel('epoch')\n",
        "plt.ylabel('loss')\n",
        "plt.legend(['train', 'val'])\n",
        "plt.show()"
      ],
      "metadata": {
        "colab": {
          "base_uri": "https://localhost:8080/",
          "height": 279
        },
        "id": "llE7HOWoRjKZ",
        "outputId": "3929e772-1905-4017-ebe8-86d4f9be1315"
      },
      "execution_count": 22,
      "outputs": [
        {
          "output_type": "display_data",
          "data": {
            "text/plain": [
              "<Figure size 432x288 with 1 Axes>"
            ],
            "image/png": "[encoded data removed]"
          },
          "metadata": {
            "needs_background": "light"
          }
        }
      ]
    },
    {
      "cell_type": "code",
      "source": [
        "test_seq = pad_sequences(test_input, maxlen = 100)\n",
        "rnn_model = keras.models.load_model('best-2rnn-model.h5')\n",
        "rnn_model.evaluate(test_seq, test_target)"
      ],
      "metadata": {
        "colab": {
          "base_uri": "https://localhost:8080/"
        },
        "id": "zgsfvByATMvX",
        "outputId": "e21ad37f-2916-4a40-900f-fd0b89c8f37f"
      },
      "execution_count": 23,
      "outputs": [
        {
          "output_type": "stream",
          "name": "stdout",
          "text": [
            "782/782 [==============================] - 13s 15ms/step - loss: 0.4241 - accuracy: 0.8031\n"
          ]
        },
        {
          "output_type": "execute_result",
          "data": {
            "text/plain": [
              "[0.42414194345474243, 0.8031200170516968]"
            ]
          },
          "metadata": {},
          "execution_count": 23
        }
      ]
    }
  ]
}