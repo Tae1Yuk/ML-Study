{
  "nbformat": 4,
  "nbformat_minor": 0,
  "metadata": {
    "colab": {
      "name": "Chapter7.ipynb",
      "provenance": [],
      "collapsed_sections": [
        "YDjk3ZxVZRLC",
        "fBYk2spHxkWE",
        "7J9bVP-oDgkq"
      ],
      "authorship_tag": "ABX9TyOnKMBPHNi+AHs9yVN385fa",
      "include_colab_link": true
    },
    "kernelspec": {
      "name": "python3",
      "display_name": "Python 3"
    },
    "language_info": {
      "name": "python"
    },
    "accelerator": "TPU"
  },
  "cells": [
    {
      "cell_type": "markdown",
      "metadata": {
        "id": "view-in-github",
        "colab_type": "text"
      },
      "source": [
        "<a href=\"https://colab.research.google.com/github/Tae1Yuk/ML-Study/blob/main/Chapter7.ipynb\" target=\"_parent\"><img src=\"https://colab.research.google.com/assets/colab-badge.svg\" alt=\"Open In Colab\"/></a>"
      ]
    },
    {
      "cell_type": "markdown",
      "source": [
        "## **Chapter 7-1**"
      ],
      "metadata": {
        "id": "YDjk3ZxVZRLC"
      }
    },
    {
      "cell_type": "code",
      "execution_count": null,
      "metadata": {
        "id": "rUE09ATDZHQ5"
      },
      "outputs": [],
      "source": [
        "from tensorflow import keras\n",
        "(train_input, train_target), (test_input, test_target) =\\\n",
        "keras.datasets.fashion_mnist.load_data()"
      ]
    },
    {
      "cell_type": "code",
      "source": [
        "print(train_input.shape, train_target.shape)\n",
        "print(test_input.shape, test_target.shape)"
      ],
      "metadata": {
        "colab": {
          "base_uri": "https://localhost:8080/"
        },
        "id": "KIXR6csKmFLy",
        "outputId": "c891b322-11c7-4152-acd0-bf9ce74ee495"
      },
      "execution_count": null,
      "outputs": [
        {
          "output_type": "stream",
          "name": "stdout",
          "text": [
            "(60000, 28, 28) (60000,)\n",
            "(10000, 28, 28) (10000,)\n"
          ]
        }
      ]
    },
    {
      "cell_type": "code",
      "source": [
        "import matplotlib.pyplot as plt\n",
        "fig, axs = plt.subplots(1, 10, figsize = (10, 10))\n",
        "for i in range(10):\n",
        "  axs[i].imshow(train_input[i], cmap = 'gray_r')\n",
        "  axs[i].axis('off')\n",
        "plt.show()"
      ],
      "metadata": {
        "colab": {
          "base_uri": "https://localhost:8080/",
          "height": 78
        },
        "id": "JkCfStojmmf0",
        "outputId": "7a18a4d2-4730-4530-c108-ceffd5609a8e"
      },
      "execution_count": null,
      "outputs": [
        {
          "output_type": "display_data",
          "data": {
            "image/png": "[encoded data removed]",
            "text/plain": [
              "<Figure size 720x720 with 10 Axes>"
            ]
          },
          "metadata": {
            "needs_background": "light"
          }
        }
      ]
    },
    {
      "cell_type": "code",
      "source": [
        "print([train_target[i] for i in range(10)])"
      ],
      "metadata": {
        "colab": {
          "base_uri": "https://localhost:8080/"
        },
        "id": "gja30F9gnBKf",
        "outputId": "0217dce4-0b98-4800-d2b8-00c98acdf3b3"
      },
      "execution_count": null,
      "outputs": [
        {
          "output_type": "stream",
          "name": "stdout",
          "text": [
            "[9, 0, 0, 3, 0, 2, 7, 2, 5, 5]\n"
          ]
        }
      ]
    },
    {
      "cell_type": "code",
      "source": [
        "import numpy as np\n",
        "print(np.unique(train_target, return_counts = True))"
      ],
      "metadata": {
        "colab": {
          "base_uri": "https://localhost:8080/"
        },
        "id": "2YUgTmQ2nJ1t",
        "outputId": "f771a3ab-1b70-4227-d424-8a5f229258f6"
      },
      "execution_count": null,
      "outputs": [
        {
          "output_type": "stream",
          "name": "stdout",
          "text": [
            "(array([0, 1, 2, 3, 4, 5, 6, 7, 8, 9], dtype=uint8), array([6000, 6000, 6000, 6000, 6000, 6000, 6000, 6000, 6000, 6000]))\n"
          ]
        }
      ]
    },
    {
      "cell_type": "code",
      "source": [
        "train_scaled = train_input / 255.0\n",
        "train_scaled = train_scaled.reshape(-1, 28 * 28)"
      ],
      "metadata": {
        "id": "A1VIV8c7nTDl"
      },
      "execution_count": null,
      "outputs": []
    },
    {
      "cell_type": "code",
      "source": [
        "print(train_scaled.shape)"
      ],
      "metadata": {
        "colab": {
          "base_uri": "https://localhost:8080/"
        },
        "id": "uH0n6ewDoaLU",
        "outputId": "ecc92265-4d38-46a8-c7e6-d682182bbb3b"
      },
      "execution_count": null,
      "outputs": [
        {
          "output_type": "stream",
          "name": "stdout",
          "text": [
            "(60000, 784)\n"
          ]
        }
      ]
    },
    {
      "cell_type": "code",
      "source": [
        "from sklearn.model_selection import cross_validate\n",
        "from sklearn.linear_model import SGDClassifier\n",
        "sc = SGDClassifier(loss = 'log', max_iter = 5, random_state = 42)\n",
        "scores = cross_validate(sc, train_scaled, train_target, n_jobs = -1)\n",
        "print(np.mean(scores['test_score']))"
      ],
      "metadata": {
        "colab": {
          "base_uri": "https://localhost:8080/"
        },
        "id": "U28hM9-6ocWc",
        "outputId": "ac019e36-9ee2-4eca-8cad-6da4c3cb486b"
      },
      "execution_count": null,
      "outputs": [
        {
          "output_type": "stream",
          "name": "stdout",
          "text": [
            "0.8195666666666668\n"
          ]
        }
      ]
    },
    {
      "cell_type": "code",
      "source": [
        "import tensorflow as tf"
      ],
      "metadata": {
        "id": "w__IGtXiowb1"
      },
      "execution_count": null,
      "outputs": []
    },
    {
      "cell_type": "code",
      "source": [
        "from tensorflow import keras"
      ],
      "metadata": {
        "id": "B2P-sWEIr8qp"
      },
      "execution_count": null,
      "outputs": []
    },
    {
      "cell_type": "code",
      "source": [
        "from sklearn.model_selection import train_test_split\n",
        "train_scaled, val_scaled, train_target, val_target = train_test_split(train_scaled, train_target, test_size = 0.2, random_state = 42)"
      ],
      "metadata": {
        "id": "JwH-MCNMsoUD"
      },
      "execution_count": null,
      "outputs": []
    },
    {
      "cell_type": "code",
      "source": [
        "print(train_scaled.shape, train_target.shape)\n",
        "print(val_scaled.shape, val_target.shape)"
      ],
      "metadata": {
        "colab": {
          "base_uri": "https://localhost:8080/"
        },
        "id": "CBDqAjpntGGP",
        "outputId": "94ace547-ba3d-44f3-b01e-df8056175de6"
      },
      "execution_count": null,
      "outputs": [
        {
          "output_type": "stream",
          "name": "stdout",
          "text": [
            "(48000, 784) (48000,)\n",
            "(12000, 784) (12000,)\n"
          ]
        }
      ]
    },
    {
      "cell_type": "code",
      "source": [
        "dense = keras.layers.Dense(10, activation = 'softmax', input_shape = (784,))"
      ],
      "metadata": {
        "id": "mte1LEwAtLsf"
      },
      "execution_count": null,
      "outputs": []
    },
    {
      "cell_type": "code",
      "source": [
        "model = keras.Sequential(dense)"
      ],
      "metadata": {
        "id": "aIc7KDf3uJvg"
      },
      "execution_count": null,
      "outputs": []
    },
    {
      "cell_type": "code",
      "source": [
        "model.compile(loss = 'sparse_categorical_crossentropy', metrics = 'accuracy')"
      ],
      "metadata": {
        "id": "kHajkHcOuSbP"
      },
      "execution_count": null,
      "outputs": []
    },
    {
      "cell_type": "code",
      "source": [
        "print(train_target[:10])"
      ],
      "metadata": {
        "colab": {
          "base_uri": "https://localhost:8080/"
        },
        "id": "wkGQTwkYu9xI",
        "outputId": "ac901b32-1918-4778-c3a3-a94aaf9a8086"
      },
      "execution_count": null,
      "outputs": [
        {
          "output_type": "stream",
          "name": "stdout",
          "text": [
            "[7 3 5 8 6 9 3 3 9 9]\n"
          ]
        }
      ]
    },
    {
      "cell_type": "code",
      "source": [
        "model.fit(train_scaled, train_target, epochs = 5)"
      ],
      "metadata": {
        "colab": {
          "base_uri": "https://localhost:8080/"
        },
        "id": "3NR-yg4Yvo4x",
        "outputId": "86ef3507-753a-4694-8fe5-6672a9683d47"
      },
      "execution_count": null,
      "outputs": [
        {
          "output_type": "stream",
          "name": "stdout",
          "text": [
            "Epoch 1/5\n",
            "1500/1500 [==============================] - 7s 3ms/step - loss: 0.6054 - accuracy: 0.7955\n",
            "Epoch 2/5\n",
            "1500/1500 [==============================] - 4s 3ms/step - loss: 0.4781 - accuracy: 0.8396\n",
            "Epoch 3/5\n",
            "1500/1500 [==============================] - 4s 3ms/step - loss: 0.4562 - accuracy: 0.8478\n",
            "Epoch 4/5\n",
            "1500/1500 [==============================] - 4s 3ms/step - loss: 0.4440 - accuracy: 0.8518\n",
            "Epoch 5/5\n",
            "1500/1500 [==============================] - 4s 3ms/step - loss: 0.4367 - accuracy: 0.8544\n"
          ]
        },
        {
          "output_type": "execute_result",
          "data": {
            "text/plain": [
              "<keras.callbacks.History at 0x7f48a00634d0>"
            ]
          },
          "metadata": {},
          "execution_count": 19
        }
      ]
    },
    {
      "cell_type": "code",
      "source": [
        "model.evaluate(val_scaeld, val_target)"
      ],
      "metadata": {
        "colab": {
          "base_uri": "https://localhost:8080/"
        },
        "id": "m04IETdov9rV",
        "outputId": "557b29fb-5bb5-4804-d3d8-f66c9cad39c2"
      },
      "execution_count": null,
      "outputs": [
        {
          "output_type": "stream",
          "name": "stdout",
          "text": [
            "375/375 [==============================] - 1s 2ms/step - loss: 0.4641 - accuracy: 0.8467\n"
          ]
        },
        {
          "output_type": "execute_result",
          "data": {
            "text/plain": [
              "[0.46414700150489807, 0.846666693687439]"
            ]
          },
          "metadata": {},
          "execution_count": 20
        }
      ]
    },
    {
      "cell_type": "markdown",
      "source": [
        "## **Chapter 7-2**"
      ],
      "metadata": {
        "id": "fBYk2spHxkWE"
      }
    },
    {
      "cell_type": "code",
      "source": [
        "from tensorflow import keras\n",
        "(train_input, train_target), (test_input, test_target) = keras.datasets.fashion_mnist.load_data()"
      ],
      "metadata": {
        "id": "PNqhpmoQxob_",
        "colab": {
          "base_uri": "https://localhost:8080/"
        },
        "outputId": "1134e260-88fc-4273-fd58-6d00573c8053"
      },
      "execution_count": 1,
      "outputs": [
        {
          "output_type": "stream",
          "name": "stdout",
          "text": [
            "Downloading data from https://storage.googleapis.com/tensorflow/tf-keras-datasets/train-labels-idx1-ubyte.gz\n",
            "32768/29515 [=================================] - 0s 0us/step\n",
            "40960/29515 [=========================================] - 0s 0us/step\n",
            "Downloading data from https://storage.googleapis.com/tensorflow/tf-keras-datasets/train-images-idx3-ubyte.gz\n",
            "26427392/26421880 [==============================] - 0s 0us/step\n",
            "26435584/26421880 [==============================] - 0s 0us/step\n",
            "Downloading data from https://storage.googleapis.com/tensorflow/tf-keras-datasets/t10k-labels-idx1-ubyte.gz\n",
            "16384/5148 [===============================================================================================] - 0s 0us/step\n",
            "Downloading data from https://storage.googleapis.com/tensorflow/tf-keras-datasets/t10k-images-idx3-ubyte.gz\n",
            "4423680/4422102 [==============================] - 0s 0us/step\n",
            "4431872/4422102 [==============================] - 0s 0us/step\n"
          ]
        }
      ]
    },
    {
      "cell_type": "code",
      "source": [
        "from sklearn.model_selection import train_test_split\n",
        "train_scaled = train_input / 255.0\n",
        "train_scaled = train_scaled.reshape(-1, 28 * 28)\n",
        "train_scaled, val_scaled, train_target, val_target = train_test_split(train_scaled, train_target, test_size = 0.2, random_state = 42)"
      ],
      "metadata": {
        "id": "z6NGhhv0Ud8F"
      },
      "execution_count": 2,
      "outputs": []
    },
    {
      "cell_type": "code",
      "source": [
        "dense1 = keras.layers.Dense(100, activation = 'sigmoid', input_shape = (784,))\n",
        "dense2 = keras.layers.Dense(10, activation = 'softmax')"
      ],
      "metadata": {
        "id": "Q1pkEAAVV2Fp"
      },
      "execution_count": null,
      "outputs": []
    },
    {
      "cell_type": "code",
      "source": [
        "model = keras.Sequential([dense1, dense2])"
      ],
      "metadata": {
        "id": "4Hle0HMQXVEo"
      },
      "execution_count": null,
      "outputs": []
    },
    {
      "cell_type": "code",
      "source": [
        "model.summary()"
      ],
      "metadata": {
        "colab": {
          "base_uri": "https://localhost:8080/"
        },
        "id": "ndNfiLaSXwc6",
        "outputId": "6bd78211-6485-4c8f-b636-b3fc6a9f8304"
      },
      "execution_count": null,
      "outputs": [
        {
          "output_type": "stream",
          "name": "stdout",
          "text": [
            "Model: \"sequential\"\n",
            "_________________________________________________________________\n",
            " Layer (type)                Output Shape              Param #   \n",
            "=================================================================\n",
            " dense (Dense)               (None, 100)               78500     \n",
            "                                                                 \n",
            " dense_1 (Dense)             (None, 10)                1010      \n",
            "                                                                 \n",
            "=================================================================\n",
            "Total params: 79,510\n",
            "Trainable params: 79,510\n",
            "Non-trainable params: 0\n",
            "_________________________________________________________________\n"
          ]
        }
      ]
    },
    {
      "cell_type": "code",
      "source": [
        "model = keras.Sequential([\n",
        "keras.layers.Dense(100, activation = 'sigmoid', input_shape = (784,), name ='hidden'),\n",
        "keras.layers.Dense(10, activation = 'softmax', name = 'output')\n",
        "], name = '패션 MNIST 모델')"
      ],
      "metadata": {
        "id": "CLyGfPbTYPTv"
      },
      "execution_count": null,
      "outputs": []
    },
    {
      "cell_type": "code",
      "source": [
        "model.summary()"
      ],
      "metadata": {
        "colab": {
          "base_uri": "https://localhost:8080/"
        },
        "id": "naS6Tfv7Z3nL",
        "outputId": "53275765-e321-4681-ff68-73d067d6f353"
      },
      "execution_count": null,
      "outputs": [
        {
          "output_type": "stream",
          "name": "stdout",
          "text": [
            "Model: \"패션 MNIST 모델\"\n",
            "_________________________________________________________________\n",
            " Layer (type)                Output Shape              Param #   \n",
            "=================================================================\n",
            " hidden (Dense)              (None, 100)               78500     \n",
            "                                                                 \n",
            " output (Dense)              (None, 10)                1010      \n",
            "                                                                 \n",
            "=================================================================\n",
            "Total params: 79,510\n",
            "Trainable params: 79,510\n",
            "Non-trainable params: 0\n",
            "_________________________________________________________________\n"
          ]
        }
      ]
    },
    {
      "cell_type": "code",
      "source": [
        "model = keras.Sequential()\n",
        "model.add(keras.layers.Dense(100, activation = 'sigmoid', input_shape = (784,)))\n",
        "model.add(keras.layers.Dense(10, activation = 'softmax'))"
      ],
      "metadata": {
        "id": "Je-mHy2WaAoL"
      },
      "execution_count": null,
      "outputs": []
    },
    {
      "cell_type": "code",
      "source": [
        "model.summary()"
      ],
      "metadata": {
        "colab": {
          "base_uri": "https://localhost:8080/"
        },
        "id": "pB8A2tMWerna",
        "outputId": "86e7f048-2c2a-4408-a997-f119aedab0d8"
      },
      "execution_count": null,
      "outputs": [
        {
          "output_type": "stream",
          "name": "stdout",
          "text": [
            "Model: \"sequential_1\"\n",
            "_________________________________________________________________\n",
            " Layer (type)                Output Shape              Param #   \n",
            "=================================================================\n",
            " dense_2 (Dense)             (None, 100)               78500     \n",
            "                                                                 \n",
            " dense_3 (Dense)             (None, 10)                1010      \n",
            "                                                                 \n",
            "=================================================================\n",
            "Total params: 79,510\n",
            "Trainable params: 79,510\n",
            "Non-trainable params: 0\n",
            "_________________________________________________________________\n"
          ]
        }
      ]
    },
    {
      "cell_type": "code",
      "source": [
        "model.compile(loss = 'sparse_categorical_crossentropy', metrics = 'accuracy')\n",
        "model.fit(train_scaled, train_target, epochs = 5)"
      ],
      "metadata": {
        "colab": {
          "base_uri": "https://localhost:8080/"
        },
        "id": "HZSqSTC7et15",
        "outputId": "9f870864-1e50-433f-b494-580747a1c85e"
      },
      "execution_count": null,
      "outputs": [
        {
          "output_type": "stream",
          "name": "stdout",
          "text": [
            "Epoch 1/5\n",
            "1500/1500 [==============================] - 8s 3ms/step - loss: 0.5617 - accuracy: 0.8101\n",
            "Epoch 2/5\n",
            "1500/1500 [==============================] - 4s 3ms/step - loss: 0.4066 - accuracy: 0.8539\n",
            "Epoch 3/5\n",
            "1500/1500 [==============================] - 4s 3ms/step - loss: 0.3729 - accuracy: 0.8649\n",
            "Epoch 4/5\n",
            "1500/1500 [==============================] - 4s 3ms/step - loss: 0.3494 - accuracy: 0.8735\n",
            "Epoch 5/5\n",
            "1500/1500 [==============================] - 4s 3ms/step - loss: 0.3338 - accuracy: 0.8789\n"
          ]
        },
        {
          "output_type": "execute_result",
          "data": {
            "text/plain": [
              "<keras.callbacks.History at 0x7f6f6faf63d0>"
            ]
          },
          "metadata": {},
          "execution_count": 13
        }
      ]
    },
    {
      "cell_type": "code",
      "source": [
        "model = keras.Sequential()\n",
        "model.add(keras.layers.Flatten(input_shape = (28, 28)))\n",
        "model.add(keras.layers.Dense(100, activation = 'relu'))\n",
        "model.add(keras.layers.Dense(10, activation = 'softmax'))"
      ],
      "metadata": {
        "id": "1ffKCnKxfDsC"
      },
      "execution_count": 3,
      "outputs": []
    },
    {
      "cell_type": "code",
      "source": [
        "model.summary()"
      ],
      "metadata": {
        "colab": {
          "base_uri": "https://localhost:8080/"
        },
        "id": "tb6j8zS1_GgX",
        "outputId": "fe24301b-3dfa-4652-b1be-5ca751fa068e"
      },
      "execution_count": 4,
      "outputs": [
        {
          "output_type": "stream",
          "name": "stdout",
          "text": [
            "Model: \"sequential\"\n",
            "_________________________________________________________________\n",
            " Layer (type)                Output Shape              Param #   \n",
            "=================================================================\n",
            " flatten (Flatten)           (None, 784)               0         \n",
            "                                                                 \n",
            " dense (Dense)               (None, 100)               78500     \n",
            "                                                                 \n",
            " dense_1 (Dense)             (None, 10)                1010      \n",
            "                                                                 \n",
            "=================================================================\n",
            "Total params: 79,510\n",
            "Trainable params: 79,510\n",
            "Non-trainable params: 0\n",
            "_________________________________________________________________\n"
          ]
        }
      ]
    },
    {
      "cell_type": "code",
      "source": [
        "(train_input, train_target), (test_input, test_target) = keras.datasets.fashion_mnist.load_data()\n",
        "train_scaled = train_input / 255.0\n",
        "train_scaled, val_scaled, train_target, val_target = train_test_split(train_scaled, train_target, test_size = 0.2, random_state = 42)"
      ],
      "metadata": {
        "id": "mnvoKlDG_UsE"
      },
      "execution_count": 5,
      "outputs": []
    },
    {
      "cell_type": "code",
      "source": [
        "model.compile(loss = 'sparse_categorical_crossentropy', metrics = 'accuracy')\n",
        "model.fit(train_scaled, train_target, epochs = 5)"
      ],
      "metadata": {
        "colab": {
          "base_uri": "https://localhost:8080/"
        },
        "id": "m4j1AN0ghgtC",
        "outputId": "3f111745-ba88-4a64-aed5-7554b60f8249"
      },
      "execution_count": 6,
      "outputs": [
        {
          "output_type": "stream",
          "name": "stdout",
          "text": [
            "Epoch 1/5\n",
            "1500/1500 [==============================] - 7s 3ms/step - loss: 0.5338 - accuracy: 0.8108\n",
            "Epoch 2/5\n",
            "1500/1500 [==============================] - 4s 3ms/step - loss: 0.3953 - accuracy: 0.8566\n",
            "Epoch 3/5\n",
            "1500/1500 [==============================] - 4s 3ms/step - loss: 0.3568 - accuracy: 0.8713\n",
            "Epoch 4/5\n",
            "1500/1500 [==============================] - 4s 3ms/step - loss: 0.3361 - accuracy: 0.8793\n",
            "Epoch 5/5\n",
            "1500/1500 [==============================] - 4s 3ms/step - loss: 0.3225 - accuracy: 0.8844\n"
          ]
        },
        {
          "output_type": "execute_result",
          "data": {
            "text/plain": [
              "<keras.callbacks.History at 0x7f09302d4790>"
            ]
          },
          "metadata": {},
          "execution_count": 6
        }
      ]
    },
    {
      "cell_type": "code",
      "source": [
        "model.evaluate(val_scaled, val_target)"
      ],
      "metadata": {
        "id": "F6gjQjVoiqQ0",
        "colab": {
          "base_uri": "https://localhost:8080/"
        },
        "outputId": "42a17303-e3a0-417a-ccd9-34e03a082ad9"
      },
      "execution_count": 7,
      "outputs": [
        {
          "output_type": "stream",
          "name": "stdout",
          "text": [
            "375/375 [==============================] - 2s 4ms/step - loss: 0.3779 - accuracy: 0.8700\n"
          ]
        },
        {
          "output_type": "execute_result",
          "data": {
            "text/plain": [
              "[0.3779464066028595, 0.8700000047683716]"
            ]
          },
          "metadata": {},
          "execution_count": 7
        }
      ]
    },
    {
      "cell_type": "code",
      "source": [
        "model.compile(optimizer = 'sgd', loss = 'sparse_categorical_crossentropy', metrics = 'accuracy')"
      ],
      "metadata": {
        "id": "_wkO8Ezx_kLZ"
      },
      "execution_count": 8,
      "outputs": []
    },
    {
      "cell_type": "code",
      "source": [
        "sgd = keras.optimizers.SGD()\n",
        "model.compile(optimizer = sgd, loss = 'sparse_categorical_crossentropy', metrics = 'accuracy')"
      ],
      "metadata": {
        "id": "R4Iw_N5DAIRY"
      },
      "execution_count": 9,
      "outputs": []
    },
    {
      "cell_type": "code",
      "source": [
        "sgd = keras.optimizers.SGD(learning_rate = 0.1)"
      ],
      "metadata": {
        "id": "TNrXxVjiATHf"
      },
      "execution_count": 10,
      "outputs": []
    },
    {
      "cell_type": "code",
      "source": [
        "sgd = keras.optimizers.SGD(momentum = 0.9, nesterov = True)"
      ],
      "metadata": {
        "id": "0SOfkKDOAaMv"
      },
      "execution_count": 12,
      "outputs": []
    },
    {
      "cell_type": "code",
      "source": [
        "adagrad = keras.optimizers.Adagrad()\n",
        "model.compile(optimizer = adagrad, loss = 'sparse_categorical_crossentropy', metrics = 'accuracy')"
      ],
      "metadata": {
        "id": "-_l0llMiAt0d"
      },
      "execution_count": 14,
      "outputs": []
    },
    {
      "cell_type": "code",
      "source": [
        "rmsprop = keras.optimizers.RMSprop()\n",
        "model.compile(optimizer = rmsprop, loss = 'sparse_categorical_crossentropy', metrics = 'accuracy')"
      ],
      "metadata": {
        "id": "8a9tI3nJBOas"
      },
      "execution_count": 16,
      "outputs": []
    },
    {
      "cell_type": "code",
      "source": [
        "model = keras.Sequential()\n",
        "model.add(keras.layers.Flatten(input_shape = (28, 28)))\n",
        "model.add(keras.layers.Dense(100, activation = 'relu'))\n",
        "model.add(keras.layers.Dense(10, activation = 'softmax'))"
      ],
      "metadata": {
        "id": "WKk9lur3BeAa"
      },
      "execution_count": 18,
      "outputs": []
    },
    {
      "cell_type": "code",
      "source": [
        "model.compile(optimizer = 'adam', loss = 'sparse_categorical_crossentropy', metrics = 'accuracy')\n",
        "model.fit(train_scaled, train_target, epochs = 5)"
      ],
      "metadata": {
        "colab": {
          "base_uri": "https://localhost:8080/"
        },
        "id": "Yn8d6twOCf-_",
        "outputId": "a60a3fcc-4145-44fc-ebc9-97b43449bcac"
      },
      "execution_count": 19,
      "outputs": [
        {
          "output_type": "stream",
          "name": "stdout",
          "text": [
            "Epoch 1/5\n",
            "1500/1500 [==============================] - 6s 3ms/step - loss: 0.5373 - accuracy: 0.8134\n",
            "Epoch 2/5\n",
            "1500/1500 [==============================] - 4s 3ms/step - loss: 0.3992 - accuracy: 0.8581\n",
            "Epoch 3/5\n",
            "1500/1500 [==============================] - 4s 3ms/step - loss: 0.3591 - accuracy: 0.8701\n",
            "Epoch 4/5\n",
            "1500/1500 [==============================] - 4s 3ms/step - loss: 0.3337 - accuracy: 0.8776\n",
            "Epoch 5/5\n",
            "1500/1500 [==============================] - 4s 3ms/step - loss: 0.3139 - accuracy: 0.8856\n"
          ]
        },
        {
          "output_type": "execute_result",
          "data": {
            "text/plain": [
              "<keras.callbacks.History at 0x7f08b8b6ccd0>"
            ]
          },
          "metadata": {},
          "execution_count": 19
        }
      ]
    },
    {
      "cell_type": "code",
      "source": [
        "model.evaluate(val_scaled, val_target)"
      ],
      "metadata": {
        "colab": {
          "base_uri": "https://localhost:8080/"
        },
        "id": "VgSU6xoTC412",
        "outputId": "bfc0970a-365c-4864-9286-8527b9eacd88"
      },
      "execution_count": 20,
      "outputs": [
        {
          "output_type": "stream",
          "name": "stdout",
          "text": [
            "375/375 [==============================] - 2s 3ms/step - loss: 0.3430 - accuracy: 0.8765\n"
          ]
        },
        {
          "output_type": "execute_result",
          "data": {
            "text/plain": [
              "[0.3430256247520447, 0.8765000104904175]"
            ]
          },
          "metadata": {},
          "execution_count": 20
        }
      ]
    },
    {
      "cell_type": "markdown",
      "source": [
        "## **Chapter 7-3**"
      ],
      "metadata": {
        "id": "7J9bVP-oDgkq"
      }
    },
    {
      "cell_type": "code",
      "source": [
        "from tensorflow import keras\n",
        "from sklearn.model_selection import train_test_split\n",
        "(train_input, train_target), (test_input, test_target) = keras.datasets.fashion_mnist.load_data()\n",
        "train_scaled = train_input / 255.0\n",
        "train_scaled, val_scaled, train_target, val_target = train_test_split(train_scaled, train_target, test_size = 0.2, random_state = 42)"
      ],
      "metadata": {
        "colab": {
          "base_uri": "https://localhost:8080/"
        },
        "id": "7b8UZ2dJDjVO",
        "outputId": "cc171afe-b37d-4735-d75e-b04342e190b4"
      },
      "execution_count": 1,
      "outputs": [
        {
          "output_type": "stream",
          "name": "stdout",
          "text": [
            "Downloading data from https://storage.googleapis.com/tensorflow/tf-keras-datasets/train-labels-idx1-ubyte.gz\n",
            "32768/29515 [=================================] - 0s 0us/step\n",
            "40960/29515 [=========================================] - 0s 0us/step\n",
            "Downloading data from https://storage.googleapis.com/tensorflow/tf-keras-datasets/train-images-idx3-ubyte.gz\n",
            "26427392/26421880 [==============================] - 0s 0us/step\n",
            "26435584/26421880 [==============================] - 0s 0us/step\n",
            "Downloading data from https://storage.googleapis.com/tensorflow/tf-keras-datasets/t10k-labels-idx1-ubyte.gz\n",
            "16384/5148 [===============================================================================================] - 0s 0us/step\n",
            "Downloading data from https://storage.googleapis.com/tensorflow/tf-keras-datasets/t10k-images-idx3-ubyte.gz\n",
            "4423680/4422102 [==============================] - 0s 0us/step\n",
            "4431872/4422102 [==============================] - 0s 0us/step\n"
          ]
        }
      ]
    },
    {
      "cell_type": "code",
      "source": [
        "def model_fn(a_layer = None):\n",
        "  model = keras.Sequential()\n",
        "  model.add(keras.layers.Flatten(input_shape = (28, 28)))\n",
        "  model.add(keras.layers.Dense(100, activation = 'relu'))\n",
        "  if a_layer:\n",
        "    model.add(a_layer)\n",
        "  model.add(keras.layers.Dense(10, activation = 'softmax'))\n",
        "  return model "
      ],
      "metadata": {
        "id": "JESxv9ylEsE3"
      },
      "execution_count": 2,
      "outputs": []
    },
    {
      "cell_type": "code",
      "source": [
        "model = model_fn()\n",
        "model.summary()"
      ],
      "metadata": {
        "colab": {
          "base_uri": "https://localhost:8080/"
        },
        "id": "2xjWCgZOE_bF",
        "outputId": "d32dfd1d-588d-4710-d382-67b2ba6054fa"
      },
      "execution_count": 31,
      "outputs": [
        {
          "output_type": "stream",
          "name": "stdout",
          "text": [
            "Model: \"sequential_6\"\n",
            "_________________________________________________________________\n",
            " Layer (type)                Output Shape              Param #   \n",
            "=================================================================\n",
            " flatten_5 (Flatten)         (None, 784)               0         \n",
            "                                                                 \n",
            " dense_6 (Dense)             (None, 100)               78500     \n",
            "                                                                 \n",
            " dense_7 (Dense)             (None, 10)                1010      \n",
            "                                                                 \n",
            "=================================================================\n",
            "Total params: 79,510\n",
            "Trainable params: 79,510\n",
            "Non-trainable params: 0\n",
            "_________________________________________________________________\n"
          ]
        }
      ]
    },
    {
      "cell_type": "code",
      "source": [
        "model.compile(loss = 'sparse_categorical_crossentropy', metrics = 'accuracy')\n",
        "history = model.fit(train_scaled, train_target, epochs = 5, verbose = 0)"
      ],
      "metadata": {
        "id": "fYc7cGvZFMVZ"
      },
      "execution_count": 32,
      "outputs": []
    },
    {
      "cell_type": "code",
      "source": [
        "print(history.history.keys())"
      ],
      "metadata": {
        "colab": {
          "base_uri": "https://localhost:8080/"
        },
        "id": "7aS1W6YMFlgz",
        "outputId": "d80bf6e4-f9a3-41a9-9769-d327a4f8bcc5"
      },
      "execution_count": 33,
      "outputs": [
        {
          "output_type": "stream",
          "name": "stdout",
          "text": [
            "dict_keys(['loss', 'accuracy'])\n"
          ]
        }
      ]
    },
    {
      "cell_type": "code",
      "source": [
        "import matplotlib.pyplot as plt\n",
        "plt.plot(history.history['loss'])\n",
        "plt.xlabel('epoch')\n",
        "plt.ylabel('loss')\n",
        "plt.show()"
      ],
      "metadata": {
        "colab": {
          "base_uri": "https://localhost:8080/",
          "height": 279
        },
        "id": "4ZDhnUvVFvmb",
        "outputId": "dafe6149-0529-4f2c-c1ed-2f398cf31ce4"
      },
      "execution_count": 35,
      "outputs": [
        {
          "output_type": "display_data",
          "data": {
            "image/png": "[encoded data removed]",
            "text/plain": [
              "<Figure size 432x288 with 1 Axes>"
            ]
          },
          "metadata": {
            "needs_background": "light"
          }
        }
      ]
    },
    {
      "cell_type": "code",
      "source": [
        "plt.plot(history.history['accuracy'])\n",
        "plt.xlabel('epoch')\n",
        "plt.ylabel('accuracy')\n",
        "plt.show()"
      ],
      "metadata": {
        "colab": {
          "base_uri": "https://localhost:8080/",
          "height": 283
        },
        "id": "y1jUPySEF8rb",
        "outputId": "aef19671-f2e9-4a1b-cc9f-c7aa97cc06d6"
      },
      "execution_count": 36,
      "outputs": [
        {
          "output_type": "display_data",
          "data": {
            "image/png": "[encoded data removed]",
            "text/plain": [
              "<Figure size 432x288 with 1 Axes>"
            ]
          },
          "metadata": {
            "needs_background": "light"
          }
        }
      ]
    },
    {
      "cell_type": "code",
      "source": [
        "model = model_fn()\n",
        "model.compile(loss = 'sparse_categorical_crossentropy', metrics = 'accuracy')\n",
        "history = model.fit(train_scaled, train_target, epochs = 20, verbose = 0)\n",
        "plt.plot(history.history['loss'])\n",
        "plt.xlabel('epoch')\n",
        "plt.ylabel('loss')\n",
        "plt.show()"
      ],
      "metadata": {
        "colab": {
          "base_uri": "https://localhost:8080/",
          "height": 279
        },
        "id": "mZTMgtGoGGhW",
        "outputId": "5f4abe1c-af47-4bc9-8fde-1863b1ec68d0"
      },
      "execution_count": 38,
      "outputs": [
        {
          "output_type": "display_data",
          "data": {
            "image/png": "[encoded data removed]",
            "text/plain": [
              "<Figure size 432x288 with 1 Axes>"
            ]
          },
          "metadata": {
            "needs_background": "light"
          }
        }
      ]
    },
    {
      "cell_type": "code",
      "source": [
        "model = model_fn()\n",
        "model.compile(loss = 'sparse_categorical_crossentropy', metrics = 'accuracy')\n",
        "history = model.fit(train_scaled, train_target, epochs = 20, validation_data = (val_scaled, val_target))"
      ],
      "metadata": {
        "colab": {
          "base_uri": "https://localhost:8080/"
        },
        "id": "XpWakrg1GWEC",
        "outputId": "1acfbcd6-014b-4bdc-b41b-bc3ae78fc3a9"
      },
      "execution_count": 3,
      "outputs": [
        {
          "output_type": "stream",
          "name": "stdout",
          "text": [
            "Epoch 1/20\n",
            "1500/1500 [==============================] - 8s 4ms/step - loss: 0.5202 - accuracy: 0.8163 - val_loss: 0.4627 - val_accuracy: 0.8394\n",
            "Epoch 2/20\n",
            "1500/1500 [==============================] - 6s 4ms/step - loss: 0.3873 - accuracy: 0.8625 - val_loss: 0.4026 - val_accuracy: 0.8541\n",
            "Epoch 3/20\n",
            "1500/1500 [==============================] - 5s 4ms/step - loss: 0.3504 - accuracy: 0.8747 - val_loss: 0.3568 - val_accuracy: 0.8713\n",
            "Epoch 4/20\n",
            "1500/1500 [==============================] - 5s 4ms/step - loss: 0.3308 - accuracy: 0.8815 - val_loss: 0.3665 - val_accuracy: 0.8726\n",
            "Epoch 5/20\n",
            "1500/1500 [==============================] - 5s 4ms/step - loss: 0.3173 - accuracy: 0.8882 - val_loss: 0.3580 - val_accuracy: 0.8790\n",
            "Epoch 6/20\n",
            "1500/1500 [==============================] - 5s 3ms/step - loss: 0.3045 - accuracy: 0.8917 - val_loss: 0.3819 - val_accuracy: 0.8726\n",
            "Epoch 7/20\n",
            "1500/1500 [==============================] - 6s 4ms/step - loss: 0.2955 - accuracy: 0.8958 - val_loss: 0.3761 - val_accuracy: 0.8777\n",
            "Epoch 8/20\n",
            "1500/1500 [==============================] - 5s 3ms/step - loss: 0.2901 - accuracy: 0.8990 - val_loss: 0.3822 - val_accuracy: 0.8788\n",
            "Epoch 9/20\n",
            "1500/1500 [==============================] - 5s 3ms/step - loss: 0.2799 - accuracy: 0.9028 - val_loss: 0.3902 - val_accuracy: 0.8712\n",
            "Epoch 10/20\n",
            "1500/1500 [==============================] - 5s 4ms/step - loss: 0.2732 - accuracy: 0.9047 - val_loss: 0.3728 - val_accuracy: 0.8825\n",
            "Epoch 11/20\n",
            "1500/1500 [==============================] - 5s 4ms/step - loss: 0.2705 - accuracy: 0.9042 - val_loss: 0.3906 - val_accuracy: 0.8832\n",
            "Epoch 12/20\n",
            "1500/1500 [==============================] - 5s 3ms/step - loss: 0.2641 - accuracy: 0.9087 - val_loss: 0.3943 - val_accuracy: 0.8830\n",
            "Epoch 13/20\n",
            "1500/1500 [==============================] - 6s 4ms/step - loss: 0.2611 - accuracy: 0.9107 - val_loss: 0.3958 - val_accuracy: 0.8831\n",
            "Epoch 14/20\n",
            "1500/1500 [==============================] - 6s 4ms/step - loss: 0.2545 - accuracy: 0.9113 - val_loss: 0.4173 - val_accuracy: 0.8758\n",
            "Epoch 15/20\n",
            "1500/1500 [==============================] - 5s 4ms/step - loss: 0.2500 - accuracy: 0.9136 - val_loss: 0.3978 - val_accuracy: 0.8848\n",
            "Epoch 16/20\n",
            "1500/1500 [==============================] - 5s 4ms/step - loss: 0.2476 - accuracy: 0.9152 - val_loss: 0.4081 - val_accuracy: 0.8857\n",
            "Epoch 17/20\n",
            "1500/1500 [==============================] - 5s 3ms/step - loss: 0.2429 - accuracy: 0.9167 - val_loss: 0.4107 - val_accuracy: 0.8807\n",
            "Epoch 18/20\n",
            "1500/1500 [==============================] - 5s 3ms/step - loss: 0.2376 - accuracy: 0.9188 - val_loss: 0.4434 - val_accuracy: 0.8776\n",
            "Epoch 19/20\n",
            "1500/1500 [==============================] - 6s 4ms/step - loss: 0.2346 - accuracy: 0.9218 - val_loss: 0.4650 - val_accuracy: 0.8777\n",
            "Epoch 20/20\n",
            "1500/1500 [==============================] - 5s 3ms/step - loss: 0.2304 - accuracy: 0.9219 - val_loss: 0.4429 - val_accuracy: 0.8881\n"
          ]
        }
      ]
    },
    {
      "cell_type": "code",
      "source": [
        "print(history.history.keys())"
      ],
      "metadata": {
        "colab": {
          "base_uri": "https://localhost:8080/"
        },
        "id": "HpbTPtB7IKvd",
        "outputId": "56d1a67a-ff18-435e-8d5b-be43f5f4bdcc"
      },
      "execution_count": 4,
      "outputs": [
        {
          "output_type": "stream",
          "name": "stdout",
          "text": [
            "dict_keys(['loss', 'accuracy', 'val_loss', 'val_accuracy'])\n"
          ]
        }
      ]
    },
    {
      "cell_type": "code",
      "source": [
        "import matplotlib.pyplot as plt\n",
        "plt.plot(history.history['loss'])\n",
        "plt.plot(history.history['val_loss'])\n",
        "plt.xlabel('epoch')\n",
        "plt.ylabel('loss')\n",
        "plt.legend(['train', 'val'])\n",
        "plt.show()"
      ],
      "metadata": {
        "colab": {
          "base_uri": "https://localhost:8080/",
          "height": 279
        },
        "id": "zokL0EVPHqB0",
        "outputId": "1d84b687-b11b-454f-c516-c70345de1279"
      },
      "execution_count": 6,
      "outputs": [
        {
          "output_type": "display_data",
          "data": {
            "image/png": "[encoded data removed]",
            "text/plain": [
              "<Figure size 432x288 with 1 Axes>"
            ]
          },
          "metadata": {
            "needs_background": "light"
          }
        }
      ]
    },
    {
      "cell_type": "code",
      "source": [
        "model = model_fn()\n",
        "model.compile(optimizer = 'adam', loss = 'sparse_categorical_crossentropy', metrics = 'accuracy')\n",
        "history = model.fit(train_scaled, train_target, epochs = 20, validation_data = (val_scaled, val_target))\n",
        "plt.plot(history.history['loss'])\n",
        "plt.plot(history.history['val_loss'])\n",
        "plt.xlabel('epoch')\n",
        "plt.ylabel('loss')\n",
        "plt.legend(['train', 'val'])\n",
        "plt.show()"
      ],
      "metadata": {
        "colab": {
          "base_uri": "https://localhost:8080/",
          "height": 1000
        },
        "id": "IvDtJnzTIR3h",
        "outputId": "9908f008-a747-4c53-be3c-9a5b4f6bb610"
      },
      "execution_count": 7,
      "outputs": [
        {
          "output_type": "stream",
          "name": "stdout",
          "text": [
            "Epoch 1/20\n",
            "1500/1500 [==============================] - 6s 4ms/step - loss: 0.5197 - accuracy: 0.8197 - val_loss: 0.4177 - val_accuracy: 0.8537\n",
            "Epoch 2/20\n",
            "1500/1500 [==============================] - 5s 3ms/step - loss: 0.3905 - accuracy: 0.8595 - val_loss: 0.3771 - val_accuracy: 0.8662\n",
            "Epoch 3/20\n",
            "1500/1500 [==============================] - 5s 3ms/step - loss: 0.3508 - accuracy: 0.8718 - val_loss: 0.3489 - val_accuracy: 0.8742\n",
            "Epoch 4/20\n",
            "1500/1500 [==============================] - 5s 3ms/step - loss: 0.3247 - accuracy: 0.8808 - val_loss: 0.3594 - val_accuracy: 0.8687\n",
            "Epoch 5/20\n",
            "1500/1500 [==============================] - 5s 3ms/step - loss: 0.3062 - accuracy: 0.8867 - val_loss: 0.3429 - val_accuracy: 0.8761\n",
            "Epoch 6/20\n",
            "1500/1500 [==============================] - 5s 3ms/step - loss: 0.2924 - accuracy: 0.8930 - val_loss: 0.3251 - val_accuracy: 0.8833\n",
            "Epoch 7/20\n",
            "1500/1500 [==============================] - 5s 3ms/step - loss: 0.2773 - accuracy: 0.8982 - val_loss: 0.3368 - val_accuracy: 0.8781\n",
            "Epoch 8/20\n",
            "1500/1500 [==============================] - 4s 3ms/step - loss: 0.2672 - accuracy: 0.9014 - val_loss: 0.3400 - val_accuracy: 0.8786\n",
            "Epoch 9/20\n",
            "1500/1500 [==============================] - 5s 3ms/step - loss: 0.2564 - accuracy: 0.9057 - val_loss: 0.3317 - val_accuracy: 0.8838\n",
            "Epoch 10/20\n",
            "1500/1500 [==============================] - 5s 3ms/step - loss: 0.2471 - accuracy: 0.9080 - val_loss: 0.3163 - val_accuracy: 0.8905\n",
            "Epoch 11/20\n",
            "1500/1500 [==============================] - 5s 3ms/step - loss: 0.2391 - accuracy: 0.9105 - val_loss: 0.3402 - val_accuracy: 0.8823\n",
            "Epoch 12/20\n",
            "1500/1500 [==============================] - 5s 4ms/step - loss: 0.2322 - accuracy: 0.9139 - val_loss: 0.3369 - val_accuracy: 0.8849\n",
            "Epoch 13/20\n",
            "1500/1500 [==============================] - 5s 3ms/step - loss: 0.2244 - accuracy: 0.9168 - val_loss: 0.3303 - val_accuracy: 0.8873\n",
            "Epoch 14/20\n",
            "1500/1500 [==============================] - 5s 3ms/step - loss: 0.2161 - accuracy: 0.9185 - val_loss: 0.3481 - val_accuracy: 0.8837\n",
            "Epoch 15/20\n",
            "1500/1500 [==============================] - 5s 3ms/step - loss: 0.2131 - accuracy: 0.9206 - val_loss: 0.3324 - val_accuracy: 0.8852\n",
            "Epoch 16/20\n",
            "1500/1500 [==============================] - 5s 3ms/step - loss: 0.2050 - accuracy: 0.9222 - val_loss: 0.3204 - val_accuracy: 0.8928\n",
            "Epoch 17/20\n",
            "1500/1500 [==============================] - 5s 3ms/step - loss: 0.1976 - accuracy: 0.9260 - val_loss: 0.3403 - val_accuracy: 0.8867\n",
            "Epoch 18/20\n",
            "1500/1500 [==============================] - 5s 3ms/step - loss: 0.1956 - accuracy: 0.9272 - val_loss: 0.3350 - val_accuracy: 0.8900\n",
            "Epoch 19/20\n",
            "1500/1500 [==============================] - 5s 3ms/step - loss: 0.1886 - accuracy: 0.9300 - val_loss: 0.3330 - val_accuracy: 0.8913\n",
            "Epoch 20/20\n",
            "1500/1500 [==============================] - 5s 3ms/step - loss: 0.1868 - accuracy: 0.9301 - val_loss: 0.3474 - val_accuracy: 0.8898\n"
          ]
        },
        {
          "output_type": "display_data",
          "data": {
            "image/png": "[encoded data removed]",
            "text/plain": [
              "<Figure size 432x288 with 1 Axes>"
            ]
          },
          "metadata": {
            "needs_background": "light"
          }
        }
      ]
    },
    {
      "cell_type": "code",
      "source": [
        "model = model_fn(keras.layers.Dropout(0.3))\n",
        "model.summary()"
      ],
      "metadata": {
        "colab": {
          "base_uri": "https://localhost:8080/"
        },
        "id": "KvYAIaAKIvnM",
        "outputId": "f1e7db50-0898-4bed-a743-1149d87955ed"
      },
      "execution_count": 9,
      "outputs": [
        {
          "output_type": "stream",
          "name": "stdout",
          "text": [
            "Model: \"sequential_3\"\n",
            "_________________________________________________________________\n",
            " Layer (type)                Output Shape              Param #   \n",
            "=================================================================\n",
            " flatten_3 (Flatten)         (None, 784)               0         \n",
            "                                                                 \n",
            " dense_6 (Dense)             (None, 100)               78500     \n",
            "                                                                 \n",
            " dropout_1 (Dropout)         (None, 100)               0         \n",
            "                                                                 \n",
            " dense_7 (Dense)             (None, 10)                1010      \n",
            "                                                                 \n",
            "=================================================================\n",
            "Total params: 79,510\n",
            "Trainable params: 79,510\n",
            "Non-trainable params: 0\n",
            "_________________________________________________________________\n"
          ]
        }
      ]
    },
    {
      "cell_type": "code",
      "source": [
        "model.compile(optimizer = 'adam', loss = 'sparse_categorical_crossentropy', metrics = 'accuracy')\n",
        "history = model.fit(train_scaled, train_target, epochs = 20, validation_data = (val_scaled, val_target))\n",
        "plt.plot(history.history['loss'])\n",
        "plt.plot(history.history['val_loss'])\n",
        "plt.xlabel('epoch')\n",
        "plt.ylabel('loss')\n",
        "plt.legend(['train', 'val'])\n",
        "plt.show()"
      ],
      "metadata": {
        "colab": {
          "base_uri": "https://localhost:8080/",
          "height": 1000
        },
        "id": "3oHOE12yPrw3",
        "outputId": "fabbf04b-f1fd-4e05-e3f4-f441851cf64e"
      },
      "execution_count": 10,
      "outputs": [
        {
          "output_type": "stream",
          "name": "stdout",
          "text": [
            "Epoch 1/20\n",
            "1500/1500 [==============================] - 8s 4ms/step - loss: 0.5917 - accuracy: 0.7925 - val_loss: 0.4529 - val_accuracy: 0.8373\n",
            "Epoch 2/20\n",
            "1500/1500 [==============================] - 5s 4ms/step - loss: 0.4419 - accuracy: 0.8416 - val_loss: 0.3910 - val_accuracy: 0.8581\n",
            "Epoch 3/20\n",
            "1500/1500 [==============================] - 5s 4ms/step - loss: 0.4045 - accuracy: 0.8523 - val_loss: 0.3722 - val_accuracy: 0.8643\n",
            "Epoch 4/20\n",
            "1500/1500 [==============================] - 6s 4ms/step - loss: 0.3828 - accuracy: 0.8602 - val_loss: 0.3540 - val_accuracy: 0.8717\n",
            "Epoch 5/20\n",
            "1500/1500 [==============================] - 6s 4ms/step - loss: 0.3705 - accuracy: 0.8655 - val_loss: 0.3548 - val_accuracy: 0.8734\n",
            "Epoch 6/20\n",
            "1500/1500 [==============================] - 5s 4ms/step - loss: 0.3553 - accuracy: 0.8705 - val_loss: 0.3482 - val_accuracy: 0.8758\n",
            "Epoch 7/20\n",
            "1500/1500 [==============================] - 5s 4ms/step - loss: 0.3475 - accuracy: 0.8744 - val_loss: 0.3297 - val_accuracy: 0.8811\n",
            "Epoch 8/20\n",
            "1500/1500 [==============================] - 5s 4ms/step - loss: 0.3387 - accuracy: 0.8743 - val_loss: 0.3419 - val_accuracy: 0.8744\n",
            "Epoch 9/20\n",
            "1500/1500 [==============================] - 5s 4ms/step - loss: 0.3304 - accuracy: 0.8789 - val_loss: 0.3343 - val_accuracy: 0.8799\n",
            "Epoch 10/20\n",
            "1500/1500 [==============================] - 6s 4ms/step - loss: 0.3223 - accuracy: 0.8802 - val_loss: 0.3285 - val_accuracy: 0.8796\n",
            "Epoch 11/20\n",
            "1500/1500 [==============================] - 5s 3ms/step - loss: 0.3163 - accuracy: 0.8816 - val_loss: 0.3409 - val_accuracy: 0.8802\n",
            "Epoch 12/20\n",
            "1500/1500 [==============================] - 5s 3ms/step - loss: 0.3102 - accuracy: 0.8849 - val_loss: 0.3204 - val_accuracy: 0.8865\n",
            "Epoch 13/20\n",
            "1500/1500 [==============================] - 5s 4ms/step - loss: 0.3073 - accuracy: 0.8850 - val_loss: 0.3222 - val_accuracy: 0.8815\n",
            "Epoch 14/20\n",
            "1500/1500 [==============================] - 5s 4ms/step - loss: 0.3019 - accuracy: 0.8880 - val_loss: 0.3321 - val_accuracy: 0.8837\n",
            "Epoch 15/20\n",
            "1500/1500 [==============================] - 5s 4ms/step - loss: 0.2974 - accuracy: 0.8904 - val_loss: 0.3242 - val_accuracy: 0.8832\n",
            "Epoch 16/20\n",
            "1500/1500 [==============================] - 5s 4ms/step - loss: 0.2939 - accuracy: 0.8894 - val_loss: 0.3366 - val_accuracy: 0.8817\n",
            "Epoch 17/20\n",
            "1500/1500 [==============================] - 5s 4ms/step - loss: 0.2901 - accuracy: 0.8927 - val_loss: 0.3230 - val_accuracy: 0.8872\n",
            "Epoch 18/20\n",
            "1500/1500 [==============================] - 6s 4ms/step - loss: 0.2843 - accuracy: 0.8935 - val_loss: 0.3267 - val_accuracy: 0.8842\n",
            "Epoch 19/20\n",
            "1500/1500 [==============================] - 5s 3ms/step - loss: 0.2823 - accuracy: 0.8928 - val_loss: 0.3341 - val_accuracy: 0.8822\n",
            "Epoch 20/20\n",
            "1500/1500 [==============================] - 5s 3ms/step - loss: 0.2773 - accuracy: 0.8962 - val_loss: 0.3250 - val_accuracy: 0.8846\n"
          ]
        },
        {
          "output_type": "display_data",
          "data": {
            "image/png": "[encoded data removed]",
            "text/plain": [
              "<Figure size 432x288 with 1 Axes>"
            ]
          },
          "metadata": {
            "needs_background": "light"
          }
        }
      ]
    },
    {
      "cell_type": "code",
      "source": [
        "model = model_fn(keras.layers.Dropout(0.3))\n",
        "model.compile(optimizer = 'adam', loss = 'sparse_categorical_crossentropy', metrics = 'accuracy')\n",
        "history = model.fit(train_scaled, train_target, epochs = 10, validation_data = (val_scaled, val_target))"
      ],
      "metadata": {
        "colab": {
          "base_uri": "https://localhost:8080/"
        },
        "id": "yqmQ8ildQ_vq",
        "outputId": "fcdba2c8-c715-4af7-8b05-c804974ecab4"
      },
      "execution_count": 11,
      "outputs": [
        {
          "output_type": "stream",
          "name": "stdout",
          "text": [
            "Epoch 1/10\n",
            "1500/1500 [==============================] - 6s 4ms/step - loss: 0.5941 - accuracy: 0.7923 - val_loss: 0.4248 - val_accuracy: 0.8443\n",
            "Epoch 2/10\n",
            "1500/1500 [==============================] - 5s 3ms/step - loss: 0.4416 - accuracy: 0.8414 - val_loss: 0.3838 - val_accuracy: 0.8616\n",
            "Epoch 3/10\n",
            "1500/1500 [==============================] - 5s 3ms/step - loss: 0.4051 - accuracy: 0.8521 - val_loss: 0.3770 - val_accuracy: 0.8637\n",
            "Epoch 4/10\n",
            "1500/1500 [==============================] - 5s 3ms/step - loss: 0.3838 - accuracy: 0.8606 - val_loss: 0.3619 - val_accuracy: 0.8681\n",
            "Epoch 5/10\n",
            "1500/1500 [==============================] - 5s 3ms/step - loss: 0.3655 - accuracy: 0.8684 - val_loss: 0.3539 - val_accuracy: 0.8673\n",
            "Epoch 6/10\n",
            "1500/1500 [==============================] - 5s 3ms/step - loss: 0.3530 - accuracy: 0.8715 - val_loss: 0.3389 - val_accuracy: 0.8742\n",
            "Epoch 7/10\n",
            "1500/1500 [==============================] - 5s 3ms/step - loss: 0.3424 - accuracy: 0.8736 - val_loss: 0.3317 - val_accuracy: 0.8803\n",
            "Epoch 8/10\n",
            "1500/1500 [==============================] - 5s 3ms/step - loss: 0.3320 - accuracy: 0.8771 - val_loss: 0.3389 - val_accuracy: 0.8754\n",
            "Epoch 9/10\n",
            "1500/1500 [==============================] - 5s 3ms/step - loss: 0.3226 - accuracy: 0.8807 - val_loss: 0.3275 - val_accuracy: 0.8813\n",
            "Epoch 10/10\n",
            "1500/1500 [==============================] - 5s 3ms/step - loss: 0.3201 - accuracy: 0.8801 - val_loss: 0.3226 - val_accuracy: 0.8830\n"
          ]
        }
      ]
    },
    {
      "cell_type": "code",
      "source": [
        "model.save_weights('model-weights.h5')"
      ],
      "metadata": {
        "id": "4_st4NQZVj3u"
      },
      "execution_count": 12,
      "outputs": []
    },
    {
      "cell_type": "code",
      "source": [
        "model.save('model-whole.h5')"
      ],
      "metadata": {
        "id": "pqmxBl2JV0Aa"
      },
      "execution_count": 13,
      "outputs": []
    },
    {
      "cell_type": "code",
      "source": [
        "!ls -al *.h5"
      ],
      "metadata": {
        "colab": {
          "base_uri": "https://localhost:8080/"
        },
        "id": "NwaE9xtvV7Gh",
        "outputId": "c39f05ca-a578-4479-bc94-f6b35ae33a6e"
      },
      "execution_count": 15,
      "outputs": [
        {
          "output_type": "stream",
          "name": "stdout",
          "text": [
            "-rw-r--r-- 1 root root 333448 Mar 11 04:58 model-weights.h5\n",
            "-rw-r--r-- 1 root root 982664 Mar 11 04:58 model-whole.h5\n"
          ]
        }
      ]
    },
    {
      "cell_type": "code",
      "source": [
        "model = model_fn(keras.layers.Dropout(0.3))\n",
        "model.load_weights('model-weights.h5')"
      ],
      "metadata": {
        "id": "o3v9oRxsV9Qx"
      },
      "execution_count": 16,
      "outputs": []
    },
    {
      "cell_type": "code",
      "source": [
        "import numpy as np\n",
        "val_labels = np.argmax(model.predict(val_scaled), axis = -1)\n",
        "print(np.mean(val_labels == val_target))"
      ],
      "metadata": {
        "colab": {
          "base_uri": "https://localhost:8080/"
        },
        "id": "OtBIiknvWLbv",
        "outputId": "3415c5c9-ef8b-4cde-b978-567159465f7c"
      },
      "execution_count": 23,
      "outputs": [
        {
          "output_type": "stream",
          "name": "stdout",
          "text": [
            "0.883\n"
          ]
        }
      ]
    },
    {
      "cell_type": "code",
      "source": [
        "model = keras.models.load_model('model-whole.h5')\n",
        "model.evaluate(val_scaled, val_target)"
      ],
      "metadata": {
        "colab": {
          "base_uri": "https://localhost:8080/"
        },
        "id": "H5gOYKrMWgBG",
        "outputId": "90f3b000-e4cc-4cc5-da58-0b421efbe44f"
      },
      "execution_count": 24,
      "outputs": [
        {
          "output_type": "stream",
          "name": "stdout",
          "text": [
            "375/375 [==============================] - 2s 3ms/step - loss: 0.3226 - accuracy: 0.8830\n"
          ]
        },
        {
          "output_type": "execute_result",
          "data": {
            "text/plain": [
              "[0.322593629360199, 0.8830000162124634]"
            ]
          },
          "metadata": {},
          "execution_count": 24
        }
      ]
    },
    {
      "cell_type": "code",
      "source": [
        "model = model_fn(keras.layers.Dropout(0.3))\n",
        "model.compile(optimizer = 'adam', loss = 'sparse_categorical_crossentropy', metrics = 'accuracy')\n",
        "checkpoint_cb = keras.callbacks.ModelCheckpoint('bets-model.h5', save_best_only = True)\n",
        "model.fit(train_scaled, train_target, epochs = 20, validation_data = (val_scaled, val_target), callbacks = [checkpoint_cb])"
      ],
      "metadata": {
        "colab": {
          "base_uri": "https://localhost:8080/"
        },
        "id": "28Vcj1w1XR48",
        "outputId": "3a706a4b-dd2e-4823-ed3b-c7c572c0e0a5"
      },
      "execution_count": 26,
      "outputs": [
        {
          "output_type": "stream",
          "name": "stdout",
          "text": [
            "Epoch 1/20\n",
            "1500/1500 [==============================] - 6s 4ms/step - loss: 0.5943 - accuracy: 0.7886 - val_loss: 0.4226 - val_accuracy: 0.8453\n",
            "Epoch 2/20\n",
            "1500/1500 [==============================] - 5s 3ms/step - loss: 0.4416 - accuracy: 0.8406 - val_loss: 0.3865 - val_accuracy: 0.8603\n",
            "Epoch 3/20\n",
            "1500/1500 [==============================] - 5s 3ms/step - loss: 0.4065 - accuracy: 0.8538 - val_loss: 0.3738 - val_accuracy: 0.8629\n",
            "Epoch 4/20\n",
            "1500/1500 [==============================] - 5s 3ms/step - loss: 0.3831 - accuracy: 0.8609 - val_loss: 0.3553 - val_accuracy: 0.8687\n",
            "Epoch 5/20\n",
            "1500/1500 [==============================] - 5s 3ms/step - loss: 0.3659 - accuracy: 0.8671 - val_loss: 0.3604 - val_accuracy: 0.8667\n",
            "Epoch 6/20\n",
            "1500/1500 [==============================] - 5s 3ms/step - loss: 0.3546 - accuracy: 0.8700 - val_loss: 0.3352 - val_accuracy: 0.8781\n",
            "Epoch 7/20\n",
            "1500/1500 [==============================] - 5s 3ms/step - loss: 0.3476 - accuracy: 0.8718 - val_loss: 0.3447 - val_accuracy: 0.8733\n",
            "Epoch 8/20\n",
            "1500/1500 [==============================] - 5s 3ms/step - loss: 0.3363 - accuracy: 0.8745 - val_loss: 0.3264 - val_accuracy: 0.8828\n",
            "Epoch 9/20\n",
            "1500/1500 [==============================] - 5s 3ms/step - loss: 0.3268 - accuracy: 0.8775 - val_loss: 0.3339 - val_accuracy: 0.8775\n",
            "Epoch 10/20\n",
            "1500/1500 [==============================] - 6s 4ms/step - loss: 0.3216 - accuracy: 0.8813 - val_loss: 0.3236 - val_accuracy: 0.8830\n",
            "Epoch 11/20\n",
            "1500/1500 [==============================] - 5s 4ms/step - loss: 0.3153 - accuracy: 0.8817 - val_loss: 0.3188 - val_accuracy: 0.8865\n",
            "Epoch 12/20\n",
            "1500/1500 [==============================] - 5s 4ms/step - loss: 0.3098 - accuracy: 0.8848 - val_loss: 0.3280 - val_accuracy: 0.8830\n",
            "Epoch 13/20\n",
            "1500/1500 [==============================] - 5s 3ms/step - loss: 0.3031 - accuracy: 0.8868 - val_loss: 0.3287 - val_accuracy: 0.8803\n",
            "Epoch 14/20\n",
            "1500/1500 [==============================] - 5s 3ms/step - loss: 0.2947 - accuracy: 0.8888 - val_loss: 0.3222 - val_accuracy: 0.8857\n",
            "Epoch 15/20\n",
            "1500/1500 [==============================] - 5s 3ms/step - loss: 0.2947 - accuracy: 0.8899 - val_loss: 0.3246 - val_accuracy: 0.8836\n",
            "Epoch 16/20\n",
            "1500/1500 [==============================] - 5s 3ms/step - loss: 0.2865 - accuracy: 0.8913 - val_loss: 0.3308 - val_accuracy: 0.8838\n",
            "Epoch 17/20\n",
            "1500/1500 [==============================] - 5s 3ms/step - loss: 0.2858 - accuracy: 0.8934 - val_loss: 0.3255 - val_accuracy: 0.8809\n",
            "Epoch 18/20\n",
            "1500/1500 [==============================] - 5s 3ms/step - loss: 0.2815 - accuracy: 0.8951 - val_loss: 0.3193 - val_accuracy: 0.8893\n",
            "Epoch 19/20\n",
            "1500/1500 [==============================] - 5s 3ms/step - loss: 0.2772 - accuracy: 0.8950 - val_loss: 0.3138 - val_accuracy: 0.8883\n",
            "Epoch 20/20\n",
            "1500/1500 [==============================] - 5s 3ms/step - loss: 0.2758 - accuracy: 0.8971 - val_loss: 0.3236 - val_accuracy: 0.8873\n"
          ]
        },
        {
          "output_type": "execute_result",
          "data": {
            "text/plain": [
              "<keras.callbacks.History at 0x7fbca5364c10>"
            ]
          },
          "metadata": {},
          "execution_count": 26
        }
      ]
    },
    {
      "cell_type": "code",
      "source": [
        "model = keras.models.load_model('bets-model.h5')\n",
        "model.evaluate(val_scaled, val_target)"
      ],
      "metadata": {
        "colab": {
          "base_uri": "https://localhost:8080/"
        },
        "id": "frrzu-mcYCW8",
        "outputId": "eecf9662-3f2a-4fb2-e123-266313e65d95"
      },
      "execution_count": 29,
      "outputs": [
        {
          "output_type": "stream",
          "name": "stdout",
          "text": [
            "375/375 [==============================] - 2s 3ms/step - loss: 0.3138 - accuracy: 0.8883\n"
          ]
        },
        {
          "output_type": "execute_result",
          "data": {
            "text/plain": [
              "[0.3137660622596741, 0.8883333206176758]"
            ]
          },
          "metadata": {},
          "execution_count": 29
        }
      ]
    },
    {
      "cell_type": "code",
      "source": [
        "model = model_fn(keras.layers.Dropout(0.3))\n",
        "model.compile(optimizer = 'adam', loss = 'sparse_categorical_crossentropy', metrics = 'accuracy')\n",
        "checkpoint_cb = keras.callbacks.ModelCheckpoint('best-model.h5', save_best_only = True)\n",
        "early_stopping_cb = keras.callbacks.EarlyStopping(patience = 2, restore_best_weights = True)\n",
        "history = model.fit(train_scaled, train_target, epochs = 20, validation_data = (val_scaled, val_target), callbacks = [checkpoint_cb, early_stopping_cb])"
      ],
      "metadata": {
        "colab": {
          "base_uri": "https://localhost:8080/"
        },
        "id": "v3-viSIhY2JW",
        "outputId": "cb035127-bc5d-4746-e3de-0e19d8f427dc"
      },
      "execution_count": 35,
      "outputs": [
        {
          "output_type": "stream",
          "name": "stdout",
          "text": [
            "Epoch 1/20\n",
            "1500/1500 [==============================] - 6s 4ms/step - loss: 0.5897 - accuracy: 0.7935 - val_loss: 0.4231 - val_accuracy: 0.8490\n",
            "Epoch 2/20\n",
            "1500/1500 [==============================] - 5s 3ms/step - loss: 0.4433 - accuracy: 0.8394 - val_loss: 0.3930 - val_accuracy: 0.8572\n",
            "Epoch 3/20\n",
            "1500/1500 [==============================] - 5s 3ms/step - loss: 0.4026 - accuracy: 0.8542 - val_loss: 0.3596 - val_accuracy: 0.8698\n",
            "Epoch 4/20\n",
            "1500/1500 [==============================] - 5s 3ms/step - loss: 0.3805 - accuracy: 0.8598 - val_loss: 0.3534 - val_accuracy: 0.8728\n",
            "Epoch 5/20\n",
            "1500/1500 [==============================] - 5s 3ms/step - loss: 0.3685 - accuracy: 0.8659 - val_loss: 0.3475 - val_accuracy: 0.8717\n",
            "Epoch 6/20\n",
            "1500/1500 [==============================] - 5s 3ms/step - loss: 0.3558 - accuracy: 0.8691 - val_loss: 0.3345 - val_accuracy: 0.8787\n",
            "Epoch 7/20\n",
            "1500/1500 [==============================] - 5s 3ms/step - loss: 0.3440 - accuracy: 0.8739 - val_loss: 0.3400 - val_accuracy: 0.8767\n",
            "Epoch 8/20\n",
            "1500/1500 [==============================] - 5s 3ms/step - loss: 0.3358 - accuracy: 0.8763 - val_loss: 0.3323 - val_accuracy: 0.8788\n",
            "Epoch 9/20\n",
            "1500/1500 [==============================] - 5s 3ms/step - loss: 0.3277 - accuracy: 0.8792 - val_loss: 0.3271 - val_accuracy: 0.8821\n",
            "Epoch 10/20\n",
            "1500/1500 [==============================] - 5s 3ms/step - loss: 0.3193 - accuracy: 0.8812 - val_loss: 0.3328 - val_accuracy: 0.8792\n",
            "Epoch 11/20\n",
            "1500/1500 [==============================] - 5s 3ms/step - loss: 0.3144 - accuracy: 0.8833 - val_loss: 0.3414 - val_accuracy: 0.8810\n"
          ]
        }
      ]
    },
    {
      "cell_type": "code",
      "source": [
        "print(early_stopping_cb.stopped_epoch)"
      ],
      "metadata": {
        "colab": {
          "base_uri": "https://localhost:8080/"
        },
        "id": "rLqcCA5JZies",
        "outputId": "7cc68c19-b099-4710-dc65-57b890aad616"
      },
      "execution_count": 36,
      "outputs": [
        {
          "output_type": "stream",
          "name": "stdout",
          "text": [
            "10\n"
          ]
        }
      ]
    },
    {
      "cell_type": "code",
      "source": [
        "plt.plot(history.history['loss'])\n",
        "plt.plot(history.history['val_loss'])\n",
        "plt.xlabel('epoch')\n",
        "plt.ylabel('loss')\n",
        "plt.legend(['train', 'val'])\n",
        "plt.show()"
      ],
      "metadata": {
        "colab": {
          "base_uri": "https://localhost:8080/",
          "height": 281
        },
        "id": "penH4DXEZ_s6",
        "outputId": "ecd650e1-99a0-495f-80c1-241a0fbeda93"
      },
      "execution_count": 37,
      "outputs": [
        {
          "output_type": "display_data",
          "data": {
            "image/png": "[encoded data removed]",
            "text/plain": [
              "<Figure size 432x288 with 1 Axes>"
            ]
          },
          "metadata": {
            "needs_background": "light"
          }
        }
      ]
    },
    {
      "cell_type": "code",
      "source": [
        "model.evaluate(val_scaled, val_target)"
      ],
      "metadata": {
        "colab": {
          "base_uri": "https://localhost:8080/"
        },
        "id": "27adiPuiakj1",
        "outputId": "28ada4b6-6b16-4fe0-c669-cb44e2b236f5"
      },
      "execution_count": 38,
      "outputs": [
        {
          "output_type": "stream",
          "name": "stdout",
          "text": [
            "375/375 [==============================] - 1s 4ms/step - loss: 0.3271 - accuracy: 0.8821\n"
          ]
        },
        {
          "output_type": "execute_result",
          "data": {
            "text/plain": [
              "[0.32708755135536194, 0.8820833563804626]"
            ]
          },
          "metadata": {},
          "execution_count": 38
        }
      ]
    }
  ]
}