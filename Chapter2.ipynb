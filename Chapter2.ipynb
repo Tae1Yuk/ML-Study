{
  "nbformat": 4,
  "nbformat_minor": 0,
  "metadata": {
    "colab": {
      "name": "Chapter2.ipynb",
      "provenance": [],
      "collapsed_sections": [],
      "authorship_tag": "ABX9TyNP+h8GtMSk+dBCMJ8crb1O",
      "include_colab_link": true
    },
    "kernelspec": {
      "name": "python3",
      "display_name": "Python 3"
    },
    "language_info": {
      "name": "python"
    }
  },
  "cells": [
    {
      "cell_type": "markdown",
      "metadata": {
        "id": "view-in-github",
        "colab_type": "text"
      },
      "source": [
        "<a href=\"https://colab.research.google.com/github/Tae1Yuk/ML-Study/blob/main/Chapter2.ipynb\" target=\"_parent\"><img src=\"https://colab.research.google.com/assets/colab-badge.svg\" alt=\"Open In Colab\"/></a>"
      ]
    },
    {
      "cell_type": "code",
      "execution_count": null,
      "metadata": {
        "id": "YaxClA-dGeGT"
      },
      "outputs": [],
      "source": [
        "fish_length = [25.4, 26.3, 26.5, 29.0, 29.0, 29.7, 29.7, 30.0, 30.0, 30.7, 31.0, 31.0, \n",
        "                31.5, 32.0, 32.0, 32.0, 33.0, 33.0, 33.5, 33.5, 34.0, 34.0, 34.5, 35.0, \n",
        "                35.0, 35.0, 35.0, 36.0, 36.0, 37.0, 38.5, 38.5, 39.5, 41.0, 41.0, 9.8, \n",
        "                10.5, 10.6, 11.0, 11.2, 11.3, 11.8, 11.8, 12.0, 12.2, 12.4, 13.0, 14.3, 15.0]\n",
        "fish_weight = [242.0, 290.0, 340.0, 363.0, 430.0, 450.0, 500.0, 390.0, 450.0, 500.0, 475.0, 500.0, \n",
        "                500.0, 340.0, 600.0, 600.0, 700.0, 700.0, 610.0, 650.0, 575.0, 685.0, 620.0, 680.0, \n",
        "                700.0, 725.0, 720.0, 714.0, 850.0, 1000.0, 920.0, 955.0, 925.0, 975.0, 950.0, 6.7, \n",
        "                7.5, 7.0, 9.7, 9.8, 8.7, 10.0, 9.9, 9.8, 12.2, 13.4, 12.2, 19.7, 19.9]\n",
        "fish_data = [[l,w] for l, w in zip(fish_length, fish_weight)]\n",
        "fish_target = [1]*35 + [0]*14"
      ]
    },
    {
      "cell_type": "code",
      "source": [
        "from sklearn.neighbors import KNeighborsClassifier\n",
        "kn = KNeighborsClassifier()"
      ],
      "metadata": {
        "id": "1Cai-KcuG4-7"
      },
      "execution_count": null,
      "outputs": []
    },
    {
      "cell_type": "code",
      "source": [
        "train_input = fish_data[:35]\n",
        "train_target = fish_target[:35]\n",
        "test_input = fish_data[35:]\n",
        "test_target = fish_target[35:]"
      ],
      "metadata": {
        "id": "rdGrH8H2HKnC"
      },
      "execution_count": null,
      "outputs": []
    },
    {
      "cell_type": "code",
      "source": [
        "kn = kn.fit(train_input, train_target)\n",
        "kn.score(test_input, test_target)"
      ],
      "metadata": {
        "colab": {
          "base_uri": "https://localhost:8080/"
        },
        "id": "htJAOvvBHUkx",
        "outputId": "0d6af0d9-43b1-41a9-a2ae-e0b4c16773ff"
      },
      "execution_count": null,
      "outputs": [
        {
          "output_type": "execute_result",
          "data": {
            "text/plain": [
              "0.0"
            ]
          },
          "metadata": {},
          "execution_count": 9
        }
      ]
    },
    {
      "cell_type": "code",
      "source": [
        "import numpy as np"
      ],
      "metadata": {
        "id": "1p2iWaEAifq0"
      },
      "execution_count": null,
      "outputs": []
    },
    {
      "cell_type": "code",
      "source": [
        "input_arr = np.array(fish_data)\n",
        "target_arr = np.array(fish_target)"
      ],
      "metadata": {
        "id": "mAHtXWJSihH5"
      },
      "execution_count": null,
      "outputs": []
    },
    {
      "cell_type": "code",
      "source": [
        " print(input_arr.shape)"
      ],
      "metadata": {
        "colab": {
          "base_uri": "https://localhost:8080/"
        },
        "id": "z_upBe8PimeT",
        "outputId": "ed822903-1a7d-4265-bfc0-66f0c0c43d57"
      },
      "execution_count": null,
      "outputs": [
        {
          "output_type": "stream",
          "name": "stdout",
          "text": [
            "(49, 2)\n"
          ]
        }
      ]
    },
    {
      "cell_type": "code",
      "source": [
        "np.random.seed(42) # 일종의 초기 값을 주어서 동일한 랜덤배열이 나오게 설정하는 명령어\n",
        "index = np.arange(49)\n",
        "np.random.shuffle(index)"
      ],
      "metadata": {
        "id": "h0BD3fKAivMj"
      },
      "execution_count": null,
      "outputs": []
    },
    {
      "cell_type": "code",
      "source": [
        "print(index)"
      ],
      "metadata": {
        "colab": {
          "base_uri": "https://localhost:8080/"
        },
        "id": "f7ezwX1Cj0M5",
        "outputId": "033d2add-b825-41a7-b56d-af0317be69fa"
      },
      "execution_count": null,
      "outputs": [
        {
          "output_type": "stream",
          "name": "stdout",
          "text": [
            "[13 45 47 44 17 27 26 25 31 19 12  4 34  8  3  6 40 41 46 15  9 16 24 33\n",
            " 30  0 43 32  5 29 11 36  1 21  2 37 35 23 39 10 22 18 48 20  7 42 14 28\n",
            " 38]\n"
          ]
        }
      ]
    },
    {
      "cell_type": "code",
      "source": [
        "train_input = input_arr[index[:35]]\n",
        "train_target = target_arr[index[:35]]"
      ],
      "metadata": {
        "id": "lthOn4mekGqK"
      },
      "execution_count": null,
      "outputs": []
    },
    {
      "cell_type": "code",
      "source": [
        "test_input = input_arr[index[35:]]\n",
        "test_target = target_arr[index[35:]]"
      ],
      "metadata": {
        "id": "IpQJ8NukkMFf"
      },
      "execution_count": null,
      "outputs": []
    },
    {
      "cell_type": "code",
      "source": [
        "import matplotlib.pyplot as plt\n",
        "plt.scatter(train_input[:,0], train_input[:,1])\n",
        "plt.scatter(test_input[:,0], test_input[:,1])\n",
        "plt.xlabel('length')\n",
        "plt.ylabel('weight')\n",
        "plt.show()"
      ],
      "metadata": {
        "colab": {
          "base_uri": "https://localhost:8080/",
          "height": 279
        },
        "id": "gvMqdB3Tk6Fs",
        "outputId": "9c8fc829-f247-4ee9-d3a7-c1815af8af84"
      },
      "execution_count": null,
      "outputs": [
        {
          "output_type": "display_data",
          "data": {
            "image/png": "[encoded data removed]",
            "text/plain": [
              "<Figure size 432x288 with 1 Axes>"
            ]
          },
          "metadata": {
            "needs_background": "light"
          }
        }
      ]
    },
    {
      "cell_type": "code",
      "source": [
        "kn = kn.fit(train_input, train_target)"
      ],
      "metadata": {
        "id": "WWhUGGc2lhLk"
      },
      "execution_count": null,
      "outputs": []
    },
    {
      "cell_type": "code",
      "source": [
        "kn.score(test_input, test_target)"
      ],
      "metadata": {
        "colab": {
          "base_uri": "https://localhost:8080/"
        },
        "id": "jqcQ9USulyOf",
        "outputId": "567a1665-ddd8-447a-cc72-d3e27b7a75be"
      },
      "execution_count": null,
      "outputs": [
        {
          "output_type": "execute_result",
          "data": {
            "text/plain": [
              "1.0"
            ]
          },
          "metadata": {},
          "execution_count": 34
        }
      ]
    },
    {
      "cell_type": "code",
      "source": [
        "print(kn.predict(test_input))\n",
        "print(test_target)"
      ],
      "metadata": {
        "colab": {
          "base_uri": "https://localhost:8080/"
        },
        "id": "_f2yks7Ul1wd",
        "outputId": "6e943908-4ff8-4cf5-ee1e-294c415db4c6"
      },
      "execution_count": null,
      "outputs": [
        {
          "output_type": "stream",
          "name": "stdout",
          "text": [
            "[0 0 1 0 1 1 1 0 1 1 0 1 1 0]\n",
            "[0 0 1 0 1 1 1 0 1 1 0 1 1 0]\n"
          ]
        }
      ]
    },
    {
      "cell_type": "code",
      "source": [
        ""
      ],
      "metadata": {
        "id": "DdUACge3mM2t"
      },
      "execution_count": null,
      "outputs": []
    },
    {
      "cell_type": "markdown",
      "source": [
        "Chapter 2-2"
      ],
      "metadata": {
        "id": "RjCmMM9Os4Zo"
      }
    },
    {
      "cell_type": "code",
      "source": [
        "fish_data = np.column_stack((fish_length, fish_weight))"
      ],
      "metadata": {
        "id": "5M1N5FU3s7rh"
      },
      "execution_count": null,
      "outputs": []
    },
    {
      "cell_type": "code",
      "source": [
        "print(fish_data[:5])"
      ],
      "metadata": {
        "colab": {
          "base_uri": "https://localhost:8080/"
        },
        "id": "EZUXNqq-ujdz",
        "outputId": "cac5a83e-0f05-4cf6-d2bf-2c483c3b27ea"
      },
      "execution_count": null,
      "outputs": [
        {
          "output_type": "stream",
          "name": "stdout",
          "text": [
            "[[ 25.4 242. ]\n",
            " [ 26.3 290. ]\n",
            " [ 26.5 340. ]\n",
            " [ 29.  363. ]\n",
            " [ 29.  430. ]]\n"
          ]
        }
      ]
    },
    {
      "cell_type": "code",
      "source": [
        "fish_target = np.concatenate((np.ones(35), np.zeros(14)))"
      ],
      "metadata": {
        "id": "uXGdPF5suxkQ"
      },
      "execution_count": null,
      "outputs": []
    },
    {
      "cell_type": "code",
      "source": [
        "fish_target"
      ],
      "metadata": {
        "colab": {
          "base_uri": "https://localhost:8080/"
        },
        "id": "suWaH3SAu37t",
        "outputId": "4f2f1705-92e4-489d-96e7-8481647f3ce8"
      },
      "execution_count": null,
      "outputs": [
        {
          "output_type": "execute_result",
          "data": {
            "text/plain": [
              "array([1., 1., 1., 1., 1., 1., 1., 1., 1., 1., 1., 1., 1., 1., 1., 1., 1.,\n",
              "       1., 1., 1., 1., 1., 1., 1., 1., 1., 1., 1., 1., 1., 1., 1., 1., 1.,\n",
              "       1., 0., 0., 0., 0., 0., 0., 0., 0., 0., 0., 0., 0., 0., 0.])"
            ]
          },
          "metadata": {},
          "execution_count": 49
        }
      ]
    },
    {
      "cell_type": "code",
      "source": [
        "from sklearn.model_selection import train_test_split"
      ],
      "metadata": {
        "id": "c4VnfHBsvWuT"
      },
      "execution_count": null,
      "outputs": []
    },
    {
      "cell_type": "code",
      "source": [
        "train_input, test_input, train_target, test_target = train_test_split(fish_data, fish_target, stratify=fish_target, random_state=42, test_size=0.2)"
      ],
      "metadata": {
        "id": "JTxjCeWfvmtH"
      },
      "execution_count": null,
      "outputs": []
    },
    {
      "cell_type": "code",
      "source": [
        "print(train_target.shape, test_target.shape)"
      ],
      "metadata": {
        "colab": {
          "base_uri": "https://localhost:8080/"
        },
        "id": "fdn3TM0tv4GX",
        "outputId": "f1b0e2d9-80a5-4da4-df2d-19a4aefe1e9d"
      },
      "execution_count": null,
      "outputs": [
        {
          "output_type": "stream",
          "name": "stdout",
          "text": [
            "(39,) (10,)\n"
          ]
        }
      ]
    },
    {
      "cell_type": "code",
      "source": [
        "print(test_target)"
      ],
      "metadata": {
        "colab": {
          "base_uri": "https://localhost:8080/"
        },
        "id": "UstLk5eiwBOS",
        "outputId": "54a59250-cde4-4c5c-e204-0911f6720c5b"
      },
      "execution_count": null,
      "outputs": [
        {
          "output_type": "stream",
          "name": "stdout",
          "text": [
            "[0. 0. 1. 0. 1. 0. 1. 1. 1. 1. 1. 1. 1.]\n"
          ]
        }
      ]
    },
    {
      "cell_type": "code",
      "source": [
        "kn.fit(train_input, train_target)\n",
        "kn.score(test_input, test_target)"
      ],
      "metadata": {
        "colab": {
          "base_uri": "https://localhost:8080/"
        },
        "id": "3ht3GRu4wLuU",
        "outputId": "ecd8a531-d5c1-45e7-aeb6-4c06c8eaf008"
      },
      "execution_count": null,
      "outputs": [
        {
          "output_type": "execute_result",
          "data": {
            "text/plain": [
              "1.0"
            ]
          },
          "metadata": {},
          "execution_count": 59
        }
      ]
    },
    {
      "cell_type": "code",
      "source": [
        "kn.predict([[25,150]])"
      ],
      "metadata": {
        "colab": {
          "base_uri": "https://localhost:8080/"
        },
        "id": "vR4LxeJixQeD",
        "outputId": "93172828-62c3-4c64-cf1c-0c6429e306a2"
      },
      "execution_count": null,
      "outputs": [
        {
          "output_type": "execute_result",
          "data": {
            "text/plain": [
              "array([0.])"
            ]
          },
          "metadata": {},
          "execution_count": 60
        }
      ]
    },
    {
      "cell_type": "code",
      "source": [
        "plt.scatter(train_input[:,0], train_input[:,1])\n",
        "plt.scatter(25, 150, marker='^')\n",
        "plt.xlabel('length')\n",
        "plt.ylabel('weight')\n",
        "plt.show()"
      ],
      "metadata": {
        "colab": {
          "base_uri": "https://localhost:8080/",
          "height": 279
        },
        "id": "bAEaNzdkxUGE",
        "outputId": "579bf44b-ed63-4bb3-fda0-5db5634f8df8"
      },
      "execution_count": null,
      "outputs": [
        {
          "output_type": "display_data",
          "data": {
            "image/png": "[encoded data removed]",
            "text/plain": [
              "<Figure size 432x288 with 1 Axes>"
            ]
          },
          "metadata": {
            "needs_background": "light"
          }
        }
      ]
    },
    {
      "cell_type": "code",
      "source": [
        "distances, indexes = kn.kneighbors([[25,150]])"
      ],
      "metadata": {
        "id": "h1AQNiFTxaLD"
      },
      "execution_count": null,
      "outputs": []
    },
    {
      "cell_type": "code",
      "source": [
        "plt.scatter(train_input[:,0], train_input[:,1])\n",
        "plt.scatter(25, 150, marker='^')\n",
        "plt.scatter(train_input[indexes,0], train_input[indexes,1], marker='D')\n",
        "plt.xlabel('length')\n",
        "plt.ylabel('weight')\n",
        "plt.show()"
      ],
      "metadata": {
        "colab": {
          "base_uri": "https://localhost:8080/",
          "height": 279
        },
        "id": "vu26MGjExrdc",
        "outputId": "c938e00c-085f-482b-80ce-4110bef4937e"
      },
      "execution_count": null,
      "outputs": [
        {
          "output_type": "display_data",
          "data": {
            "image/png": "[encoded data removed]",
            "text/plain": [
              "<Figure size 432x288 with 1 Axes>"
            ]
          },
          "metadata": {
            "needs_background": "light"
          }
        }
      ]
    },
    {
      "cell_type": "code",
      "source": [
        "train_target[indexes]"
      ],
      "metadata": {
        "colab": {
          "base_uri": "https://localhost:8080/"
        },
        "id": "BGiAVpOJx4yw",
        "outputId": "11019d43-9203-422a-cc8f-615f87e2f6d2"
      },
      "execution_count": null,
      "outputs": [
        {
          "output_type": "execute_result",
          "data": {
            "text/plain": [
              "array([[1., 0., 0., 0., 0.]])"
            ]
          },
          "metadata": {},
          "execution_count": 69
        }
      ]
    },
    {
      "cell_type": "code",
      "source": [
        "plt.scatter(train_input[:,0], train_input[:,1])\n",
        "plt.scatter(25, 150, marker='^')\n",
        "plt.scatter(train_input[indexes,0], train_input[indexes,1], marker='D')\n",
        "plt.xlim((0,1000))\n",
        "plt.xlabel('length')\n",
        "plt.ylabel('weight')\n",
        "plt.show()"
      ],
      "metadata": {
        "colab": {
          "base_uri": "https://localhost:8080/",
          "height": 279
        },
        "id": "1yhD3rlsx8GL",
        "outputId": "6716f401-ae30-4605-c38e-9e73a5274a03"
      },
      "execution_count": null,
      "outputs": [
        {
          "output_type": "display_data",
          "data": {
            "image/png": "[encoded data removed]",
            "text/plain": [
              "<Figure size 432x288 with 1 Axes>"
            ]
          },
          "metadata": {
            "needs_background": "light"
          }
        }
      ]
    },
    {
      "cell_type": "code",
      "source": [
        "mean = np.mean(train_input, axis=0)\n",
        "std = np.std(train_input, axis=0)"
      ],
      "metadata": {
        "id": "dv5GovE8y2Fl"
      },
      "execution_count": null,
      "outputs": []
    },
    {
      "cell_type": "code",
      "source": [
        "print(mean, std)"
      ],
      "metadata": {
        "colab": {
          "base_uri": "https://localhost:8080/"
        },
        "id": "Sl5FBQ9ZzJrh",
        "outputId": "433129b1-1bcc-4656-af88-6012d3f24d57"
      },
      "execution_count": null,
      "outputs": [
        {
          "output_type": "stream",
          "name": "stdout",
          "text": [
            "[ 27.24871795 454.54871795] [ 10.07499753 327.27251866]\n"
          ]
        }
      ]
    },
    {
      "cell_type": "code",
      "source": [
        "train_scaled = (train_input - mean) / std"
      ],
      "metadata": {
        "id": "CJ5SGihuzQ8G"
      },
      "execution_count": null,
      "outputs": []
    },
    {
      "cell_type": "code",
      "source": [
        "new = ([25,150] - mean) / std\n",
        "plt.scatter(train_scaled[:,0], train_scaled[:,1])\n",
        "plt.scatter(new[0], new[1], marker='^')\n",
        "plt.xlabel('length')\n",
        "plt.ylabel('wieght')\n",
        "plt.show()"
      ],
      "metadata": {
        "colab": {
          "base_uri": "https://localhost:8080/",
          "height": 279
        },
        "id": "aZXp3d5gzYUs",
        "outputId": "3084239c-adb5-44df-950c-eca63195a2bc"
      },
      "execution_count": null,
      "outputs": [
        {
          "output_type": "display_data",
          "data": {
            "image/png": "[encoded data removed]",
            "text/plain": [
              "<Figure size 432x288 with 1 Axes>"
            ]
          },
          "metadata": {
            "needs_background": "light"
          }
        }
      ]
    },
    {
      "cell_type": "code",
      "source": [
        "kn.fit(train_scaled, train_target)"
      ],
      "metadata": {
        "colab": {
          "base_uri": "https://localhost:8080/"
        },
        "id": "2IrnaLd0zsPe",
        "outputId": "16bbf722-45a4-4ecc-966f-e586e06ffb3d"
      },
      "execution_count": null,
      "outputs": [
        {
          "output_type": "execute_result",
          "data": {
            "text/plain": [
              "KNeighborsClassifier()"
            ]
          },
          "metadata": {},
          "execution_count": 89
        }
      ]
    },
    {
      "cell_type": "code",
      "source": [
        "test_scaled = (test_input - mean) / std\n",
        "kn.score(test_scaled, test_target)"
      ],
      "metadata": {
        "colab": {
          "base_uri": "https://localhost:8080/"
        },
        "id": "ZLzXara10C9k",
        "outputId": "a64952f5-d259-499f-e77f-31fba42d4f2f"
      },
      "execution_count": null,
      "outputs": [
        {
          "output_type": "execute_result",
          "data": {
            "text/plain": [
              "1.0"
            ]
          },
          "metadata": {},
          "execution_count": 90
        }
      ]
    },
    {
      "cell_type": "code",
      "source": [
        "print(kn.predict([new]))"
      ],
      "metadata": {
        "colab": {
          "base_uri": "https://localhost:8080/"
        },
        "id": "6lJZTcjP0N5u",
        "outputId": "e7e2ae2b-8427-432b-adeb-47201b088fb3"
      },
      "execution_count": null,
      "outputs": [
        {
          "output_type": "stream",
          "name": "stdout",
          "text": [
            "[1.]\n"
          ]
        }
      ]
    },
    {
      "cell_type": "code",
      "source": [
        "distances, indexes = kn.kneighbors([new])\n",
        "plt.scatter(train_scaled[:,0], train_scaled[:,1])\n",
        "plt.scatter(new[0], new[1], marker='^')\n",
        "plt.scatter(train_scaled[indexes,0], train_scaled[indexes,1], marker='D')\n",
        "plt.xlabel('length')\n",
        "plt.ylabel('wieght')\n",
        "plt.show()"
      ],
      "metadata": {
        "colab": {
          "base_uri": "https://localhost:8080/",
          "height": 279
        },
        "id": "w6Xmffht0RJ2",
        "outputId": "346164ac-970c-4d2c-e878-76316408c8bb"
      },
      "execution_count": null,
      "outputs": [
        {
          "output_type": "display_data",
          "data": {
            "image/png": "[encoded data removed]",
            "text/plain": [
              "<Figure size 432x288 with 1 Axes>"
            ]
          },
          "metadata": {
            "needs_background": "light"
          }
        }
      ]
    },
    {
      "cell_type": "code",
      "source": [
        ""
      ],
      "metadata": {
        "id": "UqYH324_0l9f"
      },
      "execution_count": null,
      "outputs": []
    }
  ]
}